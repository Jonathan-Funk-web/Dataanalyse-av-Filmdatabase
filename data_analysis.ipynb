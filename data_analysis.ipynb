{
 "cells": [
  {
   "cell_type": "markdown",
   "metadata": {},
   "source": [
    "# Data analysis of TMDB\n",
    "Ih this task I am going to do some data analysis of movies and tv shows that are in The Movie DataBase.\n",
    "The insights I am going to find is the following:\n",
    "- What directors have made most movies and/or tv-shows.\n",
    "- What actors have been the most active.\n",
    "- What genres was the most popular per decade."
   ]
  },
  {
   "cell_type": "markdown",
   "metadata": {},
   "source": [
    "## Getting the data\n",
    "\n",
    "I was at first going to just use [TMDB's API](https://developer.themoviedb.org/reference/intro/getting-started), but I encountered a problem. When I was trying to call for the 501th page (i.e. pages 500+) it gave me a error with the text `Invalid page: Pages start at 1 and max at 500. They are expected to be an integer.`, this is quite annoying since the amount of pages as today (16 01 2025) is a whoping `48184`. And with the page limit I would only be able to access **just a bit over 1%** using this method. I did then discover the [daily ID](https://developer.themoviedb.org/docs/daily-id-exports) lists that they have. This was pretty sweet, but sadly i stumbled upon a me problem this time, my code was not good enough and I did not know how to improve it further, a aproximatly 190 hours of processing time to find directors from just the `People` list? Not acceptable, I then went for something a bit easier, I found this lovely [.csv file](https://www.kaggle.com/datasets/alanvourch/tmdb-movies-daily-updates) that user Alan Vourc'h had uploaded to Kaggle, and that file is what I am goign to use for this project."
   ]
  },
  {
   "cell_type": "markdown",
   "metadata": {},
   "source": [
    "## Start of code\n",
    "I am going to use Python as my coding language, since it is what I am the most comfortable with.\n",
    "\n",
    "The very first thing I do is choose my modules for my code:\n",
    "- I chose `pandas` as my module of choice to handle the .csv file.\n",
    "- I chose `numpy` for its usefull math library.\n",
    "- I chose `seaborn` for its posibility to visualize data in a friendly way.\n",
    "- I chose `matplotlib.pyplot` for making graphing possible."
   ]
  },
  {
   "cell_type": "code",
   "execution_count": 14,
   "metadata": {},
   "outputs": [],
   "source": [
    "import pandas as pd\n",
    "import numpy as np\n",
    "import seaborn as sns\n",
    "import matplotlib.pyplot as plt\n"
   ]
  },
  {
   "cell_type": "markdown",
   "metadata": {},
   "source": [
    "Then since the file itself has many columns that I do not need, I made a list for them, and put that list in to the `usecols` parametre in panas' `read_csv`."
   ]
  },
  {
   "cell_type": "code",
   "execution_count": 15,
   "metadata": {},
   "outputs": [],
   "source": [
    "\n",
    "fields = [\"title\",\"id\",\"vote_average\",\"vote_count\",\"release_date\",\"revenue\",\"budget\",\"runtime\",\"genres\",\"cast\",\"director\",\"writers\",\"producers\",\"imdb_rating\",\"imdb_votes\"] # Put the info you want here\n",
    "\n",
    "df = pd.read_csv(r\"Data\\TMDB_all_movies.csv\", skipinitialspace=True, usecols=fields)"
   ]
  },
  {
   "cell_type": "markdown",
   "metadata": {},
   "source": [
    "Then, since there are some rows that had `NAN` as their values, i changed those to a 0 where it was fitting. (I did not do this for the movies with no credits, they are filtered out.) \n",
    "I also set the index to be the movies ID."
   ]
  },
  {
   "cell_type": "code",
   "execution_count": 16,
   "metadata": {},
   "outputs": [
    {
     "name": "stderr",
     "output_type": "stream",
     "text": [
      "C:\\Users\\Bruker\\AppData\\Local\\Temp\\ipykernel_6924\\2791509396.py:5: FutureWarning: A value is trying to be set on a copy of a DataFrame or Series through chained assignment using an inplace method.\n",
      "The behavior will change in pandas 3.0. This inplace method will never work because the intermediate object on which we are setting values always behaves as a copy.\n",
      "\n",
      "For example, when doing 'df[col].method(value, inplace=True)', try using 'df.method({col: value}, inplace=True)' or df[col] = df[col].method(value) instead, to perform the operation inplace on the original object.\n",
      "\n",
      "\n",
      "  df[i].fillna(0,inplace=True)\n"
     ]
    }
   ],
   "source": [
    "#Data cleaning START\n",
    "df.set_index(\"id\", inplace=True) #Sets the index to be the movies ID\n",
    "\n",
    "for i in [\"vote_average\",\"vote_count\",\"revenue\",\"budget\",\"imdb_rating\",\"imdb_votes\"]:\n",
    "    df[i].fillna(0,inplace=True)\n",
    "    #This replaces NAN values with in the list to 0\n",
    "\n",
    "df[\"release_date\"] = pd.to_datetime(df[\"release_date\"]) #Turns the dates in to the date format\n",
    "\n",
    "df.drop_duplicates(inplace = True)\n",
    "\n",
    "df.dropna(inplace=True)\n",
    "#Data cleaning END"
   ]
  },
  {
   "cell_type": "markdown",
   "metadata": {},
   "source": [
    "## The First Question\n",
    "\n",
    "So to find out who has directed the most movies, and how many movies they have directed I do a quick query on the `director` collumn."
   ]
  },
  {
   "cell_type": "code",
   "execution_count": 17,
   "metadata": {},
   "outputs": [
    {
     "data": {
      "text/plain": [
       "count             227046\n",
       "unique            107291\n",
       "top       David DeCoteau\n",
       "freq                 142\n",
       "Name: director, dtype: object"
      ]
     },
     "execution_count": 17,
     "metadata": {},
     "output_type": "execute_result"
    }
   ],
   "source": [
    "df[\"director\"].describe(include=\"object\")"
   ]
  },
  {
   "cell_type": "markdown",
   "metadata": {},
   "source": [
    "And here I look at the `top` in the terminal to find out that it is David DeCoteau that has directed the most movies, and by looking at `freq` that he has directed 142 movies."
   ]
  },
  {
   "cell_type": "markdown",
   "metadata": {},
   "source": [
    "## The Second Question\n",
    "\n",
    "Now to find the person whom has acted in the most movies, this is found in a very similar way to the first question, but now I will use the collumn `cast`."
   ]
  },
  {
   "cell_type": "code",
   "execution_count": 18,
   "metadata": {},
   "outputs": [
    {
     "data": {
      "text/plain": [
       "count        227046\n",
       "unique       224458\n",
       "top       Mel Blanc\n",
       "freq            139\n",
       "Name: cast, dtype: object"
      ]
     },
     "execution_count": 18,
     "metadata": {},
     "output_type": "execute_result"
    }
   ],
   "source": [
    "df[\"cast\"].describe(include=\"object\")"
   ]
  },
  {
   "cell_type": "markdown",
   "metadata": {},
   "source": [
    "And it is Mel Blanc that has played in the most movies, in 139 of them."
   ]
  },
  {
   "cell_type": "markdown",
   "metadata": {},
   "source": [
    "## The Third Question\n",
    "\n",
    "Now to find out what genres are the most popular per decade, I first divide up each movie in to the decades that they are in."
   ]
  },
  {
   "cell_type": "code",
   "execution_count": 21,
   "metadata": {},
   "outputs": [
    {
     "data": {
      "text/html": [
       "<div>\n",
       "<style scoped>\n",
       "    .dataframe tbody tr th:only-of-type {\n",
       "        vertical-align: middle;\n",
       "    }\n",
       "\n",
       "    .dataframe tbody tr th {\n",
       "        vertical-align: top;\n",
       "    }\n",
       "\n",
       "    .dataframe thead th {\n",
       "        text-align: right;\n",
       "    }\n",
       "</style>\n",
       "<table border=\"1\" class=\"dataframe\">\n",
       "  <thead>\n",
       "    <tr style=\"text-align: right;\">\n",
       "      <th></th>\n",
       "      <th>title</th>\n",
       "      <th>vote_average</th>\n",
       "      <th>vote_count</th>\n",
       "      <th>release_date</th>\n",
       "      <th>revenue</th>\n",
       "      <th>runtime</th>\n",
       "      <th>budget</th>\n",
       "      <th>genres</th>\n",
       "      <th>cast</th>\n",
       "      <th>director</th>\n",
       "      <th>writers</th>\n",
       "      <th>producers</th>\n",
       "      <th>imdb_rating</th>\n",
       "      <th>imdb_votes</th>\n",
       "      <th>decade</th>\n",
       "    </tr>\n",
       "    <tr>\n",
       "      <th>id</th>\n",
       "      <th></th>\n",
       "      <th></th>\n",
       "      <th></th>\n",
       "      <th></th>\n",
       "      <th></th>\n",
       "      <th></th>\n",
       "      <th></th>\n",
       "      <th></th>\n",
       "      <th></th>\n",
       "      <th></th>\n",
       "      <th></th>\n",
       "      <th></th>\n",
       "      <th></th>\n",
       "      <th></th>\n",
       "      <th></th>\n",
       "    </tr>\n",
       "  </thead>\n",
       "  <tbody>\n",
       "    <tr>\n",
       "      <th>2</th>\n",
       "      <td>Ariel</td>\n",
       "      <td>7.100</td>\n",
       "      <td>338.0</td>\n",
       "      <td>1988-10-21</td>\n",
       "      <td>0.0</td>\n",
       "      <td>73.0</td>\n",
       "      <td>0.0</td>\n",
       "      <td>Comedy, Drama, Romance, Crime</td>\n",
       "      <td>Jyrki Olsonen, Jaakko Talaskivi, Olli Varja, H...</td>\n",
       "      <td>Aki Kaurismäki</td>\n",
       "      <td>Aki Kaurismäki</td>\n",
       "      <td>Aki Kaurismäki</td>\n",
       "      <td>7.4</td>\n",
       "      <td>8892.0</td>\n",
       "      <td>1980</td>\n",
       "    </tr>\n",
       "    <tr>\n",
       "      <th>3</th>\n",
       "      <td>Shadows in Paradise</td>\n",
       "      <td>7.300</td>\n",
       "      <td>402.0</td>\n",
       "      <td>1986-10-17</td>\n",
       "      <td>0.0</td>\n",
       "      <td>74.0</td>\n",
       "      <td>0.0</td>\n",
       "      <td>Comedy, Drama, Romance</td>\n",
       "      <td>Sirkka Silin, Helmeri Pellonpää, Tanja Talaski...</td>\n",
       "      <td>Aki Kaurismäki</td>\n",
       "      <td>Aki Kaurismäki</td>\n",
       "      <td>Mika Kaurismäki</td>\n",
       "      <td>7.5</td>\n",
       "      <td>7681.0</td>\n",
       "      <td>1980</td>\n",
       "    </tr>\n",
       "    <tr>\n",
       "      <th>5</th>\n",
       "      <td>Four Rooms</td>\n",
       "      <td>5.900</td>\n",
       "      <td>2650.0</td>\n",
       "      <td>1995-12-09</td>\n",
       "      <td>4257354.0</td>\n",
       "      <td>98.0</td>\n",
       "      <td>4000000.0</td>\n",
       "      <td>Comedy</td>\n",
       "      <td>Lili Taylor, Valeria Golino, Marisa Tomei, Mar...</td>\n",
       "      <td>Quentin Tarantino, Robert Rodriguez, Allison A...</td>\n",
       "      <td>Quentin Tarantino, Robert Rodriguez, Allison A...</td>\n",
       "      <td>Quentin Tarantino, Lawrence Bender, Alexandre ...</td>\n",
       "      <td>6.7</td>\n",
       "      <td>113177.0</td>\n",
       "      <td>1990</td>\n",
       "    </tr>\n",
       "    <tr>\n",
       "      <th>6</th>\n",
       "      <td>Judgment Night</td>\n",
       "      <td>6.500</td>\n",
       "      <td>333.0</td>\n",
       "      <td>1993-10-15</td>\n",
       "      <td>12136938.0</td>\n",
       "      <td>109.0</td>\n",
       "      <td>21000000.0</td>\n",
       "      <td>Action, Crime, Thriller</td>\n",
       "      <td>Stephen Dorff, Everlast, Will Zahrn, Emilio Es...</td>\n",
       "      <td>Stephen Hopkins</td>\n",
       "      <td>Jere Cunningham, Lewis Colick</td>\n",
       "      <td>Gene Levy, Marilyn Vance, Lloyd Segan</td>\n",
       "      <td>6.6</td>\n",
       "      <td>19493.0</td>\n",
       "      <td>1990</td>\n",
       "    </tr>\n",
       "    <tr>\n",
       "      <th>9</th>\n",
       "      <td>Sunday in August</td>\n",
       "      <td>7.135</td>\n",
       "      <td>26.0</td>\n",
       "      <td>2004-09-02</td>\n",
       "      <td>0.0</td>\n",
       "      <td>15.0</td>\n",
       "      <td>0.0</td>\n",
       "      <td>Drama</td>\n",
       "      <td>Rita Lengyel, Milton Welsh</td>\n",
       "      <td>Marc Meyer, Anna Haas</td>\n",
       "      <td>Marc Meyer</td>\n",
       "      <td>Marc Meyer</td>\n",
       "      <td>6.8</td>\n",
       "      <td>14.0</td>\n",
       "      <td>2000</td>\n",
       "    </tr>\n",
       "  </tbody>\n",
       "</table>\n",
       "</div>"
      ],
      "text/plain": [
       "                  title  vote_average  vote_count release_date     revenue  \\\n",
       "id                                                                           \n",
       "2                 Ariel         7.100       338.0   1988-10-21         0.0   \n",
       "3   Shadows in Paradise         7.300       402.0   1986-10-17         0.0   \n",
       "5            Four Rooms         5.900      2650.0   1995-12-09   4257354.0   \n",
       "6        Judgment Night         6.500       333.0   1993-10-15  12136938.0   \n",
       "9      Sunday in August         7.135        26.0   2004-09-02         0.0   \n",
       "\n",
       "    runtime      budget                         genres  \\\n",
       "id                                                       \n",
       "2      73.0         0.0  Comedy, Drama, Romance, Crime   \n",
       "3      74.0         0.0         Comedy, Drama, Romance   \n",
       "5      98.0   4000000.0                         Comedy   \n",
       "6     109.0  21000000.0        Action, Crime, Thriller   \n",
       "9      15.0         0.0                          Drama   \n",
       "\n",
       "                                                 cast  \\\n",
       "id                                                      \n",
       "2   Jyrki Olsonen, Jaakko Talaskivi, Olli Varja, H...   \n",
       "3   Sirkka Silin, Helmeri Pellonpää, Tanja Talaski...   \n",
       "5   Lili Taylor, Valeria Golino, Marisa Tomei, Mar...   \n",
       "6   Stephen Dorff, Everlast, Will Zahrn, Emilio Es...   \n",
       "9                          Rita Lengyel, Milton Welsh   \n",
       "\n",
       "                                             director  \\\n",
       "id                                                      \n",
       "2                                      Aki Kaurismäki   \n",
       "3                                      Aki Kaurismäki   \n",
       "5   Quentin Tarantino, Robert Rodriguez, Allison A...   \n",
       "6                                     Stephen Hopkins   \n",
       "9                               Marc Meyer, Anna Haas   \n",
       "\n",
       "                                              writers  \\\n",
       "id                                                      \n",
       "2                                      Aki Kaurismäki   \n",
       "3                                      Aki Kaurismäki   \n",
       "5   Quentin Tarantino, Robert Rodriguez, Allison A...   \n",
       "6                       Jere Cunningham, Lewis Colick   \n",
       "9                                          Marc Meyer   \n",
       "\n",
       "                                            producers  imdb_rating  \\\n",
       "id                                                                   \n",
       "2                                      Aki Kaurismäki          7.4   \n",
       "3                                     Mika Kaurismäki          7.5   \n",
       "5   Quentin Tarantino, Lawrence Bender, Alexandre ...          6.7   \n",
       "6               Gene Levy, Marilyn Vance, Lloyd Segan          6.6   \n",
       "9                                          Marc Meyer          6.8   \n",
       "\n",
       "    imdb_votes  decade  \n",
       "id                      \n",
       "2       8892.0    1980  \n",
       "3       7681.0    1980  \n",
       "5     113177.0    1990  \n",
       "6      19493.0    1990  \n",
       "9         14.0    2000  "
      ]
     },
     "execution_count": 21,
     "metadata": {},
     "output_type": "execute_result"
    }
   ],
   "source": [
    "df[\"decade\"] = (df[\"release_date\"].dt.year // 10) * 10"
   ]
  },
  {
   "cell_type": "markdown",
   "metadata": {},
   "source": [
    "I then run a `df.head()` to make sure that the new collumn `decade` has been added."
   ]
  },
  {
   "cell_type": "code",
   "execution_count": null,
   "metadata": {},
   "outputs": [],
   "source": [
    "df.head()"
   ]
  },
  {
   "cell_type": "markdown",
   "metadata": {},
   "source": [
    "And it has!"
   ]
  },
  {
   "cell_type": "markdown",
   "metadata": {},
   "source": []
  }
 ],
 "metadata": {
  "kernelspec": {
   "display_name": "Python 3",
   "language": "python",
   "name": "python3"
  },
  "language_info": {
   "codemirror_mode": {
    "name": "ipython",
    "version": 3
   },
   "file_extension": ".py",
   "mimetype": "text/x-python",
   "name": "python",
   "nbconvert_exporter": "python",
   "pygments_lexer": "ipython3",
   "version": "3.13.1"
  }
 },
 "nbformat": 4,
 "nbformat_minor": 2
}
