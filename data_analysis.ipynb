{
 "cells": [
  {
   "cell_type": "markdown",
   "metadata": {},
   "source": [
    "# Data analysis of TMDB\n",
    "Ih this task I am going to do some data analysis of movies and tv shows that are in The Movie DataBase.\n",
    "The insights I am going to find is the following:\n",
    "- What directors have made most movies and/or tv-shows.\n",
    "- What actors have been the most active.\n",
    "- What genres was the most popular per decade."
   ]
  },
  {
   "cell_type": "markdown",
   "metadata": {},
   "source": [
    "## Getting the data\n",
    "\n",
    "I was at first going to just use [TMDB's API](https://developer.themoviedb.org/reference/intro/getting-started), but I encountered a problem. When I was trying to call for the 501th page (i.e. pages 500+) it gave me a error with the text `Invalid page: Pages start at 1 and max at 500. They are expected to be an integer.`, this is quite annoying since the amount of pages as today (16 01 2025) is a whoping `48184`. And with the page limit I would only be able to access **just a bit over 1%** using this method. I did then discover the [daily ID](https://developer.themoviedb.org/docs/daily-id-exports) lists that they have. This was pretty sweet, but sadly i stumbled upon a me problem this time, my code was not good enough and I did not know how to improve it further, a aproximatly 190 hours of processing time to find directors from just the `People` list? Not acceptable, I then went for something a bit easier, I found this lovely [.csv file](https://www.kaggle.com/datasets/alanvourch/tmdb-movies-daily-updates) that user Alan Vourc'h had uploaded to Kaggle, and that file is what I am goign to use for this project."
   ]
  },
  {
   "cell_type": "markdown",
   "metadata": {},
   "source": [
    "## Start of code\n",
    "I am going to use Python as my coding language, since it is what I am the most comfortable with.\n",
    "\n",
    "The very first thing I do is choose my modules for my code:\n",
    "- I chose `pandas` as my module of choice to handle the .csv file.\n",
    "- I chose `numpy` for its usefull math library.\n",
    "- I chose `seaborn` for its posibility to visualize data in a friendly way.\n",
    "- I chose `matplotlib.pyplot` for making graphing possible.\n",
    "- I chose `ipywidgets` for making the graphs interactive.\n",
    "- I chose `date` from `datetime` for removing movies that have not been released yet.\n",
    "- I chose `Counter` from `collections` to go over how often a genre shows up."
   ]
  },
  {
   "cell_type": "code",
   "execution_count": 1,
   "metadata": {},
   "outputs": [],
   "source": [
    "import pandas as pd\n",
    "import numpy as np\n",
    "import seaborn as sns\n",
    "import matplotlib.pyplot as plt\n",
    "import ipywidgets as widgets\n",
    "from datetime import date\n",
    "from collections import Counter"
   ]
  },
  {
   "cell_type": "markdown",
   "metadata": {},
   "source": [
    "Then since the file itself has many columns that I do not need, I made a list for them, and put that list in to the `usecols` parametre in panas' `read_csv`."
   ]
  },
  {
   "cell_type": "code",
   "execution_count": 2,
   "metadata": {},
   "outputs": [],
   "source": [
    "\n",
    "fields = [\"title\",\"id\",\"popularity\",\"vote_average\",\"vote_count\",\"release_date\",\"revenue\",\"budget\",\"runtime\",\"genres\",\"cast\",\"director\",\"writers\",\"producers\",\"imdb_rating\",\"imdb_votes\"] # Put the info you want here\n",
    "\n",
    "df = pd.read_csv(r\"Data\\TMDB_all_movies.csv\", skipinitialspace=True, usecols=fields)"
   ]
  },
  {
   "cell_type": "markdown",
   "metadata": {},
   "source": [
    "Then, since there are some rows that had `NAN` as their values, i changed those to a 0 where it was fitting. (I did not do this for the movies with no credits, they are filtered out.) \n",
    "I also set the index to be the movies ID."
   ]
  },
  {
   "cell_type": "code",
   "execution_count": 3,
   "metadata": {},
   "outputs": [
    {
     "name": "stderr",
     "output_type": "stream",
     "text": [
      "C:\\Users\\Bruker\\AppData\\Local\\Temp\\ipykernel_16576\\175845122.py:5: FutureWarning: A value is trying to be set on a copy of a DataFrame or Series through chained assignment using an inplace method.\n",
      "The behavior will change in pandas 3.0. This inplace method will never work because the intermediate object on which we are setting values always behaves as a copy.\n",
      "\n",
      "For example, when doing 'df[col].method(value, inplace=True)', try using 'df.method({col: value}, inplace=True)' or df[col] = df[col].method(value) instead, to perform the operation inplace on the original object.\n",
      "\n",
      "\n",
      "  df[i].fillna(0,inplace=True)\n"
     ]
    }
   ],
   "source": [
    "#Data cleaning START\n",
    "df.set_index(\"id\", inplace=True) #Sets the index to be the movies ID\n",
    "\n",
    "for i in [\"vote_average\",\"vote_count\",\"revenue\",\"budget\",\"imdb_rating\",\"imdb_votes\"]:\n",
    "    df[i].fillna(0,inplace=True)\n",
    "    #This replaces NAN values with in the list to 0\n",
    "\n",
    "\n",
    "df[\"release_date\"] = pd.to_datetime(df[\"release_date\"]) #Turns the dates in to the date format\n",
    "\n",
    "today = pd.to_datetime(date.today())\n",
    "df = df[df[\"release_date\"] <= today] #This removes movies that are in the dataset that are not out yet.\n",
    "\n",
    "df.drop_duplicates(inplace = True)\n",
    "\n",
    "df.dropna(inplace=True)\n",
    "#Data cleaning END"
   ]
  },
  {
   "cell_type": "markdown",
   "metadata": {},
   "source": [
    "## The First Question\n",
    "\n",
    "So to find out who has directed the most movies, and how many movies they have directed I do a quick query on the `director` collumn."
   ]
  },
  {
   "cell_type": "code",
   "execution_count": null,
   "metadata": {},
   "outputs": [
    {
     "data": {
      "text/plain": [
       "count             226150\n",
       "unique            106975\n",
       "top       David DeCoteau\n",
       "freq                 142\n",
       "Name: director, dtype: object"
      ]
     },
     "execution_count": 50,
     "metadata": {},
     "output_type": "execute_result"
    }
   ],
   "source": [
    "df[\"director\"].describe(include=\"object\")"
   ]
  },
  {
   "cell_type": "markdown",
   "metadata": {},
   "source": [
    "And here I look at the `top` in the terminal to find out that it is David DeCoteau that has directed the most movies, and by looking at `freq` that he has directed 142 movies."
   ]
  },
  {
   "cell_type": "markdown",
   "metadata": {},
   "source": [
    "## The Second Question\n",
    "\n",
    "Now to find the person whom has acted in the most movies, this is found in a very similar way to the first question, but now I will use the collumn `cast`."
   ]
  },
  {
   "cell_type": "code",
   "execution_count": 5,
   "metadata": {},
   "outputs": [
    {
     "data": {
      "text/plain": [
       "count        226150\n",
       "unique       223573\n",
       "top       Mel Blanc\n",
       "freq            139\n",
       "Name: cast, dtype: object"
      ]
     },
     "execution_count": 5,
     "metadata": {},
     "output_type": "execute_result"
    }
   ],
   "source": [
    "df[\"cast\"].describe(include=\"object\")"
   ]
  },
  {
   "cell_type": "markdown",
   "metadata": {},
   "source": [
    "And it is Mel Blanc that has played in the most movies, in 139 of them."
   ]
  },
  {
   "cell_type": "markdown",
   "metadata": {},
   "source": [
    "## The Third Question\n",
    "\n",
    "Now to find out what genres are the most popular per decade, I first divide up each movie in to the decades that they are in."
   ]
  },
  {
   "cell_type": "code",
   "execution_count": 6,
   "metadata": {},
   "outputs": [],
   "source": [
    "df[\"decade\"] = (df[\"release_date\"].dt.year // 10) * 10"
   ]
  },
  {
   "cell_type": "markdown",
   "metadata": {},
   "source": [
    "I then run a `df.head()` to make sure that the new collumn `decade` has been added."
   ]
  },
  {
   "cell_type": "code",
   "execution_count": 7,
   "metadata": {},
   "outputs": [
    {
     "data": {
      "text/html": [
       "<div>\n",
       "<style scoped>\n",
       "    .dataframe tbody tr th:only-of-type {\n",
       "        vertical-align: middle;\n",
       "    }\n",
       "\n",
       "    .dataframe tbody tr th {\n",
       "        vertical-align: top;\n",
       "    }\n",
       "\n",
       "    .dataframe thead th {\n",
       "        text-align: right;\n",
       "    }\n",
       "</style>\n",
       "<table border=\"1\" class=\"dataframe\">\n",
       "  <thead>\n",
       "    <tr style=\"text-align: right;\">\n",
       "      <th></th>\n",
       "      <th>title</th>\n",
       "      <th>vote_average</th>\n",
       "      <th>vote_count</th>\n",
       "      <th>release_date</th>\n",
       "      <th>revenue</th>\n",
       "      <th>runtime</th>\n",
       "      <th>budget</th>\n",
       "      <th>popularity</th>\n",
       "      <th>genres</th>\n",
       "      <th>cast</th>\n",
       "      <th>director</th>\n",
       "      <th>writers</th>\n",
       "      <th>producers</th>\n",
       "      <th>imdb_rating</th>\n",
       "      <th>imdb_votes</th>\n",
       "      <th>decade</th>\n",
       "    </tr>\n",
       "    <tr>\n",
       "      <th>id</th>\n",
       "      <th></th>\n",
       "      <th></th>\n",
       "      <th></th>\n",
       "      <th></th>\n",
       "      <th></th>\n",
       "      <th></th>\n",
       "      <th></th>\n",
       "      <th></th>\n",
       "      <th></th>\n",
       "      <th></th>\n",
       "      <th></th>\n",
       "      <th></th>\n",
       "      <th></th>\n",
       "      <th></th>\n",
       "      <th></th>\n",
       "      <th></th>\n",
       "    </tr>\n",
       "  </thead>\n",
       "  <tbody>\n",
       "    <tr>\n",
       "      <th>2</th>\n",
       "      <td>Ariel</td>\n",
       "      <td>7.100</td>\n",
       "      <td>338.0</td>\n",
       "      <td>1988-10-21</td>\n",
       "      <td>0.0</td>\n",
       "      <td>73.0</td>\n",
       "      <td>0.0</td>\n",
       "      <td>12.553</td>\n",
       "      <td>Comedy, Drama, Romance, Crime</td>\n",
       "      <td>Jyrki Olsonen, Jaakko Talaskivi, Olli Varja, H...</td>\n",
       "      <td>Aki Kaurismäki</td>\n",
       "      <td>Aki Kaurismäki</td>\n",
       "      <td>Aki Kaurismäki</td>\n",
       "      <td>7.4</td>\n",
       "      <td>8892.0</td>\n",
       "      <td>1980</td>\n",
       "    </tr>\n",
       "    <tr>\n",
       "      <th>3</th>\n",
       "      <td>Shadows in Paradise</td>\n",
       "      <td>7.300</td>\n",
       "      <td>402.0</td>\n",
       "      <td>1986-10-17</td>\n",
       "      <td>0.0</td>\n",
       "      <td>74.0</td>\n",
       "      <td>0.0</td>\n",
       "      <td>16.411</td>\n",
       "      <td>Comedy, Drama, Romance</td>\n",
       "      <td>Sirkka Silin, Helmeri Pellonpää, Tanja Talaski...</td>\n",
       "      <td>Aki Kaurismäki</td>\n",
       "      <td>Aki Kaurismäki</td>\n",
       "      <td>Mika Kaurismäki</td>\n",
       "      <td>7.5</td>\n",
       "      <td>7681.0</td>\n",
       "      <td>1980</td>\n",
       "    </tr>\n",
       "    <tr>\n",
       "      <th>5</th>\n",
       "      <td>Four Rooms</td>\n",
       "      <td>5.900</td>\n",
       "      <td>2650.0</td>\n",
       "      <td>1995-12-09</td>\n",
       "      <td>4257354.0</td>\n",
       "      <td>98.0</td>\n",
       "      <td>4000000.0</td>\n",
       "      <td>19.476</td>\n",
       "      <td>Comedy</td>\n",
       "      <td>Lili Taylor, Valeria Golino, Marisa Tomei, Mar...</td>\n",
       "      <td>Quentin Tarantino, Robert Rodriguez, Allison A...</td>\n",
       "      <td>Quentin Tarantino, Robert Rodriguez, Allison A...</td>\n",
       "      <td>Quentin Tarantino, Lawrence Bender, Alexandre ...</td>\n",
       "      <td>6.7</td>\n",
       "      <td>113177.0</td>\n",
       "      <td>1990</td>\n",
       "    </tr>\n",
       "    <tr>\n",
       "      <th>6</th>\n",
       "      <td>Judgment Night</td>\n",
       "      <td>6.500</td>\n",
       "      <td>333.0</td>\n",
       "      <td>1993-10-15</td>\n",
       "      <td>12136938.0</td>\n",
       "      <td>109.0</td>\n",
       "      <td>21000000.0</td>\n",
       "      <td>12.110</td>\n",
       "      <td>Action, Crime, Thriller</td>\n",
       "      <td>Stephen Dorff, Everlast, Will Zahrn, Emilio Es...</td>\n",
       "      <td>Stephen Hopkins</td>\n",
       "      <td>Jere Cunningham, Lewis Colick</td>\n",
       "      <td>Gene Levy, Marilyn Vance, Lloyd Segan</td>\n",
       "      <td>6.6</td>\n",
       "      <td>19493.0</td>\n",
       "      <td>1990</td>\n",
       "    </tr>\n",
       "    <tr>\n",
       "      <th>9</th>\n",
       "      <td>Sunday in August</td>\n",
       "      <td>7.135</td>\n",
       "      <td>26.0</td>\n",
       "      <td>2004-09-02</td>\n",
       "      <td>0.0</td>\n",
       "      <td>15.0</td>\n",
       "      <td>0.0</td>\n",
       "      <td>2.729</td>\n",
       "      <td>Drama</td>\n",
       "      <td>Rita Lengyel, Milton Welsh</td>\n",
       "      <td>Marc Meyer, Anna Haas</td>\n",
       "      <td>Marc Meyer</td>\n",
       "      <td>Marc Meyer</td>\n",
       "      <td>6.8</td>\n",
       "      <td>14.0</td>\n",
       "      <td>2000</td>\n",
       "    </tr>\n",
       "  </tbody>\n",
       "</table>\n",
       "</div>"
      ],
      "text/plain": [
       "                  title  vote_average  vote_count release_date     revenue  \\\n",
       "id                                                                           \n",
       "2                 Ariel         7.100       338.0   1988-10-21         0.0   \n",
       "3   Shadows in Paradise         7.300       402.0   1986-10-17         0.0   \n",
       "5            Four Rooms         5.900      2650.0   1995-12-09   4257354.0   \n",
       "6        Judgment Night         6.500       333.0   1993-10-15  12136938.0   \n",
       "9      Sunday in August         7.135        26.0   2004-09-02         0.0   \n",
       "\n",
       "    runtime      budget  popularity                         genres  \\\n",
       "id                                                                   \n",
       "2      73.0         0.0      12.553  Comedy, Drama, Romance, Crime   \n",
       "3      74.0         0.0      16.411         Comedy, Drama, Romance   \n",
       "5      98.0   4000000.0      19.476                         Comedy   \n",
       "6     109.0  21000000.0      12.110        Action, Crime, Thriller   \n",
       "9      15.0         0.0       2.729                          Drama   \n",
       "\n",
       "                                                 cast  \\\n",
       "id                                                      \n",
       "2   Jyrki Olsonen, Jaakko Talaskivi, Olli Varja, H...   \n",
       "3   Sirkka Silin, Helmeri Pellonpää, Tanja Talaski...   \n",
       "5   Lili Taylor, Valeria Golino, Marisa Tomei, Mar...   \n",
       "6   Stephen Dorff, Everlast, Will Zahrn, Emilio Es...   \n",
       "9                          Rita Lengyel, Milton Welsh   \n",
       "\n",
       "                                             director  \\\n",
       "id                                                      \n",
       "2                                      Aki Kaurismäki   \n",
       "3                                      Aki Kaurismäki   \n",
       "5   Quentin Tarantino, Robert Rodriguez, Allison A...   \n",
       "6                                     Stephen Hopkins   \n",
       "9                               Marc Meyer, Anna Haas   \n",
       "\n",
       "                                              writers  \\\n",
       "id                                                      \n",
       "2                                      Aki Kaurismäki   \n",
       "3                                      Aki Kaurismäki   \n",
       "5   Quentin Tarantino, Robert Rodriguez, Allison A...   \n",
       "6                       Jere Cunningham, Lewis Colick   \n",
       "9                                          Marc Meyer   \n",
       "\n",
       "                                            producers  imdb_rating  \\\n",
       "id                                                                   \n",
       "2                                      Aki Kaurismäki          7.4   \n",
       "3                                     Mika Kaurismäki          7.5   \n",
       "5   Quentin Tarantino, Lawrence Bender, Alexandre ...          6.7   \n",
       "6               Gene Levy, Marilyn Vance, Lloyd Segan          6.6   \n",
       "9                                          Marc Meyer          6.8   \n",
       "\n",
       "    imdb_votes  decade  \n",
       "id                      \n",
       "2       8892.0    1980  \n",
       "3       7681.0    1980  \n",
       "5     113177.0    1990  \n",
       "6      19493.0    1990  \n",
       "9         14.0    2000  "
      ]
     },
     "execution_count": 7,
     "metadata": {},
     "output_type": "execute_result"
    }
   ],
   "source": [
    "df.head()"
   ]
  },
  {
   "cell_type": "markdown",
   "metadata": {},
   "source": [
    "And it has!\n",
    "I will now gothrough each movie and find its genres, I am going to test a few diffrent aproaches for this:\n",
    "1. I will tally up the genres for each movie, so if a movie is a `drama` & `comedy` movie that was released in the decade `1980`, the decade `1980` will have `1 drama movie` \"point\" and `1 comedy movie` \"point\"\n",
    "2. I will do similar as in 1., but instead each movie will count as a fraction (`1/n` where `n` is the amount of genres that movie has). So the same movie in method 1. the decade `1980` will have `0.5 drama movie` \"points\" and `0.5 comedy movie` \"points\".\n",
    "3. Similar as to 1., but this time the `popularity` collumn will play in, if the movie in method 1. has a `popularity` score of `10` the decade `1980` will have `10 drama movie` \"points\" and `10 comedy movie` \"points\".\n",
    "4. Similar as to 3, but this time based on method 2., so it will divide the popularity on the amount of genres. So then the decade `1980` will have `5 drama movie` \"points\" and `5 comedy movie` \"points\"."
   ]
  },
  {
   "cell_type": "markdown",
   "metadata": {},
   "source": [
    "I wanted to do this with multiple different aproaches, the first and third might give a slightly \"bloated\" feeling when it comes to genres, since a movie rarely has only one genre. Therfore I made the second and fourth aproaches. And for the first and second aproach versus third and fourth aproach, I thought it would be interesting to see if the most common genres per dacade was the most popular ones"
   ]
  },
  {
   "cell_type": "markdown",
   "metadata": {},
   "source": [
    "I start with finding out all the different decades in the data set."
   ]
  },
  {
   "cell_type": "code",
   "execution_count": 8,
   "metadata": {},
   "outputs": [
    {
     "name": "stdout",
     "output_type": "stream",
     "text": [
      "[1980 1990 2000 1970 1940 1920 1960 1930 1950 2010 1910 1900 2020 1890]\n"
     ]
    }
   ],
   "source": [
    "print(df[\"decade\"].unique())"
   ]
  },
  {
   "cell_type": "markdown",
   "metadata": {},
   "source": [
    "Now with the diffrent decades, i go through each movie in the list, starting with the earliest decade. I then use the `pandas.explode()` to get a copy of each genre per movie by itself. Then I use `Counter` to count how many induvidual times each genre shows up, add it to a dictionary, and then go on to the next decade. I repeat this untuil there are no more decades."
   ]
  },
  {
   "cell_type": "code",
   "execution_count": 9,
   "metadata": {},
   "outputs": [],
   "source": [
    "def count_genres_once_per_movie() -> dict:\n",
    "    \"\"\"\n",
    "    Goes through each movie in the data frame, going decade by decade, starting with the earliest decade.\n",
    "    Then it splits up each genre in to its own \"copy\" of the movie with with `.explode()`.\n",
    "    It then with `Counter()` it counts all the genres and how many times they showed up in that decade.\n",
    "    Then it adds the value for each genre, the value is the amount of times a movie has that genre.\n",
    "    Then it goes to the next decade.\n",
    "    returns:\n",
    "        dict: a dict of each decade, and its popularity\n",
    "    \"\"\"\n",
    "    \n",
    "    genre_popularity_per_decade = {}\n",
    "    \n",
    "    for decade in sorted(df[\"decade\"].unique()):\n",
    "        temporary_df = df[df[\"decade\"] == decade]\n",
    "        #I first use the pandas .explode() method to get each genre for itself\n",
    "        all_genres_that_decade = temporary_df[\"genres\"].str.split(\", \").explode()\n",
    "        genre_count = Counter(all_genres_that_decade)\n",
    "        sorted_genres = dict(sorted(genre_count.items(), key=lambda x: x[1], reverse=True)) #Makes it so that each genre in the decade dicts are sorted with the most often at the top.\n",
    "\n",
    "        genre_popularity_per_decade[int(decade)] = dict(sorted_genres)\n",
    "\n",
    "        \n",
    "    return genre_popularity_per_decade    \n",
    "\n",
    "def count_genres_weighted_by_count() -> dict:\n",
    "    \"\"\"Goes through each movie in the data frame, then for each movie, it gets its genres, and logs how many genres that movie id had.\n",
    "    Then it splits up each genre in to its own \"copy\" of the movie with with `.explode()`.\n",
    "    It then with `Counter()` it counts all the genres and how many times they showed up in that decade.\n",
    "    Then it adds the value for each genre, the value is the amount of times a movie has that genre, divided on how many genres that movie had.\n",
    "    Then it goes to the next decade.\n",
    "\n",
    "    returns:\n",
    "        dict: a dict of each decade, and its popularity\n",
    "    \"\"\"\n",
    "    \n",
    "    genre_popularity_per_decade = {}\n",
    "    \n",
    "    for decade in sorted(df[\"decade\"].unique()):\n",
    "        temporary_df = df[df[\"decade\"] == decade]\n",
    "        \n",
    "        genre_weights = Counter()\n",
    "        \n",
    "        for genres in temporary_df[\"genres\"]:\n",
    "            genre_list = genres.split(\", \")\n",
    "            weight = 1 / len(genre_list)\n",
    "            \n",
    "            \n",
    "            for genre in genre_list:\n",
    "                genre_weights[genre] += weight\n",
    "            \n",
    "        rounded_weights = {genre: round(weight, 2) for genre, weight in genre_weights.items()} #Makes it so that each genre in the finished dict is rounded, if i rounded it in the loop above it did not work.\n",
    "        sorted_genres = dict(sorted(rounded_weights.items(), key=lambda x: x[1], reverse=True)) #Makes it so that each genre in the decade dicts are sorted with the most often at the top.\n",
    "            \n",
    "        genre_popularity_per_decade[int(decade)] = dict(sorted_genres)\n",
    "    \n",
    "    return genre_popularity_per_decade  \n",
    "\n",
    "def count_genres_weighted_by_popularity() -> dict:\n",
    "    \"\"\"\n",
    "    Goes through each movie in the data frame, going decade by decade, starting with the earliest decade, also gets the movies popularity.\n",
    "    Then it splits up each genre in to its own \"copy\" of the movie with with `.explode()`.\n",
    "    It then with `Counter()` it counts all the genres and how many times they showed up in that decade, multiplied with that movies popularity.\n",
    "    Then it goes to the next decade.\n",
    "    \n",
    "    returns:\n",
    "        dict: a dict of each decade, and its popularity\n",
    "    \"\"\"\n",
    "    \n",
    "    genre_popularity_per_decade = {}\n",
    "    \n",
    "    for decade in sorted(df[\"decade\"].unique()):\n",
    "        temporary_df = df[df[\"decade\"] == decade]\n",
    "        \n",
    "        genre_weights = Counter()\n",
    "        \n",
    "        for _, row in temporary_df.iterrows():\n",
    "            genres = row[\"genres\"].split(\", \")\n",
    "            popularity = row[\"popularity\"]  # Get the popularity for the movie\n",
    "            \n",
    "            \n",
    "            for genre in genres:\n",
    "                genre_weights[genre] += popularity\n",
    "            \n",
    "        rounded_weights = {genre: round(weight, 2) for genre, weight in genre_weights.items()} #Makes it so that each genre in the finished dict is rounded, if i rounded it in the loop above it did not work.\n",
    "        sorted_genres = dict(sorted(rounded_weights.items(), key=lambda x: x[1], reverse=True)) #Makes it so that each genre in the decade dicts are sorted with the most often at the top.\n",
    "            \n",
    "        genre_popularity_per_decade[int(decade)] = dict(sorted_genres)\n",
    "    \n",
    "    return genre_popularity_per_decade\n",
    "\n",
    "def count_genres_weighted_by_popularity_and_count() -> dict:\n",
    "    \"\"\"\n",
    "    Goes through each movie in the data frame, going decade by decade, starting with the earliest decade, also gets the movies popularity.\n",
    "    Then it splits up each genre in to its own \"copy\" of the movie with with `.explode()`.\n",
    "    It then with `Counter()` it counts all the genres and how many times they showed up in that decade, multiplied with that movies popularity, then divided by the amount of genres that movie had.\n",
    "    Then it goes to the next decade.\n",
    "    \n",
    "    returns:\n",
    "        dict: a dict of each decade, and its popularity\n",
    "    \"\"\"\n",
    "    genre_popularity_per_decade = {}\n",
    "    \n",
    "    for decade in sorted(df[\"decade\"].unique()):\n",
    "        temporary_df = df[df[\"decade\"] == decade]\n",
    "        \n",
    "        genre_weights = Counter()\n",
    "        \n",
    "        for _, row in temporary_df.iterrows():\n",
    "            genres = row[\"genres\"].split(\", \")\n",
    "            popularity = row[\"popularity\"]  # Get the popularity for the movie\n",
    "            weight = 1 / len(genres)\n",
    "            \n",
    "            \n",
    "            for genre in genres:\n",
    "                genre_weights[genre] += popularity*weight\n",
    "            \n",
    "        rounded_weights = {genre: round(weight, 2) for genre, weight in genre_weights.items()} #Makes it so that each genre in the finished dict is rounded, if i rounded it in the loop above it did not work.\n",
    "        sorted_genres = dict(sorted(rounded_weights.items(), key=lambda x: x[1], reverse=True)) #Makes it so that each genre in the decade dicts are sorted with the most often at the top.\n",
    "            \n",
    "        genre_popularity_per_decade[int(decade)] = dict(sorted_genres)\n",
    "    \n",
    "    return genre_popularity_per_decade\n"
   ]
  },
  {
   "cell_type": "markdown",
   "metadata": {},
   "source": [
    "I am also going to make a simple function to get the top `N` movie genres per decade."
   ]
  },
  {
   "cell_type": "code",
   "execution_count": 10,
   "metadata": {},
   "outputs": [],
   "source": [
    "def get_top_genres(genre_popularity: dict, top_n: int = 3) -> dict:\n",
    "    \"\"\"gets the top N genres for all the decades in the dict.\n",
    "\n",
    "    Args:\n",
    "        genre_popularity (dict): Use `first_way()`, `second_way()`, `third_way()` or `fourth_way()`\n",
    "        top_n (int, optional): How many genres to look for. Defaults to 3.\n",
    "\n",
    "    Returns:\n",
    "        dict: the `genre_popularity` with the `top_n` genres as a dict\n",
    "    \"\"\"\n",
    "    \n",
    "    top_genres = {}\n",
    "    \n",
    "    for decade, genre_counts in genre_popularity.items():\n",
    "        top_n_genres = dict(sorted(genre_counts.items(), key=lambda x: x[1], reverse=True)[:top_n])\n",
    "        top_genres[decade] = top_n_genres\n",
    "\n",
    "    return top_genres"
   ]
  },
  {
   "cell_type": "markdown",
   "metadata": {},
   "source": [
    "So, time to see what the diffrent methodes and see what information they give us"
   ]
  },
  {
   "cell_type": "code",
   "execution_count": 54,
   "metadata": {},
   "outputs": [],
   "source": [
    "decades = [str(i) for i in df[\"decade\"].unique()]\n",
    "decades = sorted(decades)\n",
    "\n",
    "decade_tup = [(item,index + 1) for index, item in enumerate(decades)]\n",
    "\n",
    "decade_picker = widgets.Dropdown(\n",
    "    options=decade_tup,\n",
    "    description=\"Decade:\",\n",
    ")\n"
   ]
  },
  {
   "cell_type": "code",
   "execution_count": 60,
   "metadata": {},
   "outputs": [
    {
     "data": {
      "application/vnd.jupyter.widget-view+json": {
       "model_id": "27521baf3fe748f392f1d1fdf7377511",
       "version_major": 2,
       "version_minor": 0
      },
      "text/plain": [
       "interactive(children=(Dropdown(description='Decade:', options=(('1890', 1), ('1900', 2), ('1910', 3), ('1920',…"
      ]
     },
     "execution_count": 60,
     "metadata": {},
     "output_type": "execute_result"
    }
   ],
   "source": [
    "decades = [str(i) for i in df[\"decade\"].unique()]\n",
    "decades = sorted(decades)\n",
    "\n",
    "decade_tup = [(item,index + 1) for index, item in enumerate(decades)]\n",
    "\n",
    "decade_picker\n",
    "\n",
    "df_genres = pd.DataFrame.from_dict(count_genres_once_per_movie(), orient=\"index\")\n",
    "df_genres.fillna(0,inplace=True)\n",
    "\n",
    "\n",
    "\n",
    "def update_bar_plot(decade_value):\n",
    "\n",
    "    plt.figure(figsize=(10, 6))\n",
    "    plt.barh(df_genres.columns, df_genres.iloc[decade_value - 1])  # Adjust based on your data\n",
    "    plt.title(f\"Genre Distribution for the {decades[decade_value - 1]}\")\n",
    "    plt.xlabel(\"Count\")\n",
    "    plt.ylabel(\"Genres\")\n",
    "    plt.show()\n",
    "\n",
    "# Use widgets.interactive to automatically refresh the plot when a new decade is selected\n",
    "widgets.interactive(update_bar_plot, decade_value=decade_picker)"
   ]
  },
  {
   "cell_type": "code",
   "execution_count": 12,
   "metadata": {},
   "outputs": [
    {
     "data": {
      "text/plain": [
       "Comedy             5.0\n",
       "Fantasy            4.0\n",
       "Horror             3.0\n",
       "Drama              1.0\n",
       "Family             1.0\n",
       "Romance            1.0\n",
       "History            0.0\n",
       "Adventure          0.0\n",
       "Crime              0.0\n",
       "Science Fiction    0.0\n",
       "Action             0.0\n",
       "Western            0.0\n",
       "War                0.0\n",
       "Mystery            0.0\n",
       "Thriller           0.0\n",
       "Animation          0.0\n",
       "Documentary        0.0\n",
       "Music              0.0\n",
       "TV Movie           0.0\n",
       "Name: 1890, dtype: float64"
      ]
     },
     "execution_count": 12,
     "metadata": {},
     "output_type": "execute_result"
    }
   ],
   "source": [
    "df_genres.iloc[0]"
   ]
  },
  {
   "cell_type": "code",
   "execution_count": 13,
   "metadata": {},
   "outputs": [],
   "source": [
    "def get_genre_moods(decade_id:int) -> list[float,float,float]:\n",
    "    \"\"\"Goes through each genre for that year, summing up the diffrent genre points in to one of thre categories, `positive`, `negative` and `neutral`. And then outputs value of those diffrent categories.\n",
    "\n",
    "    Args:\n",
    "        decade_id (int): The year to find the genre moods for. `decade_id[0] = 1890` ... `decade_id[13] = 2020´\n",
    "\n",
    "    Returns:\n",
    "        list[float,float,float]: The diffrent mood values, ´[positive, negative, neutral]´\n",
    "    \"\"\"\n",
    "\n",
    "    positive_genres = [\"Music\", \"Adventure\", \"Romance\", \"Family\", \"Comedy\"]\n",
    "    negative_genres = [\"Thriller\", \"War\", \"Crime\", \"Horror\"]\n",
    "    neutral_genres = [\"TV Movie\", \"Documentary\", \"Animation\", \"Mystery\", \"Western\", \"Action\", \"Science Fiction\", \"History\", \"Drama\", \"Fantasy\"]\n",
    "        \n",
    "    positive_points = 0\n",
    "    negative_points = 0\n",
    "    neutral_points = 0\n",
    "    \n",
    "    decade = df_genres.iloc[decade_id]\n",
    "\n",
    "    positive_points += sum(decade[mood] for mood in positive_genres)\n",
    "    negative_points += sum(decade[mood] for mood in negative_genres)\n",
    "    neutral_points += sum(decade[mood] for mood in neutral_genres)\n",
    "\n",
    "    return [positive_points.item(),negative_points.item(),neutral_points.item()] #the `.item()` turns it in to a `float` from a `np.float64``\n"
   ]
  },
  {
   "cell_type": "code",
   "execution_count": 14,
   "metadata": {},
   "outputs": [],
   "source": [
    "mood_data = {\n",
    "    \"Decade\": [int(item) for item in decades], #Turns each decade in to a int\n",
    "    \"Positive\": [get_genre_moods(i)[0] for i in range(len(decades))],\n",
    "    \"Negative\": [get_genre_moods(i)[1] for i in range(len(decades))],\n",
    "    \"Neutral\": [get_genre_moods(i)[2] for i in range(len(decades))]\n",
    "}"
   ]
  },
  {
   "cell_type": "code",
   "execution_count": 15,
   "metadata": {},
   "outputs": [
    {
     "data": {
      "text/html": [
       "<div>\n",
       "<style scoped>\n",
       "    .dataframe tbody tr th:only-of-type {\n",
       "        vertical-align: middle;\n",
       "    }\n",
       "\n",
       "    .dataframe tbody tr th {\n",
       "        vertical-align: top;\n",
       "    }\n",
       "\n",
       "    .dataframe thead th {\n",
       "        text-align: right;\n",
       "    }\n",
       "</style>\n",
       "<table border=\"1\" class=\"dataframe\">\n",
       "  <thead>\n",
       "    <tr style=\"text-align: right;\">\n",
       "      <th></th>\n",
       "      <th>Decade</th>\n",
       "      <th>Positive</th>\n",
       "      <th>Negative</th>\n",
       "      <th>Neutral</th>\n",
       "    </tr>\n",
       "  </thead>\n",
       "  <tbody>\n",
       "    <tr>\n",
       "      <th>0</th>\n",
       "      <td>1890</td>\n",
       "      <td>7.0</td>\n",
       "      <td>3.0</td>\n",
       "      <td>5.0</td>\n",
       "    </tr>\n",
       "    <tr>\n",
       "      <th>1</th>\n",
       "      <td>1900</td>\n",
       "      <td>24.0</td>\n",
       "      <td>13.0</td>\n",
       "      <td>60.0</td>\n",
       "    </tr>\n",
       "    <tr>\n",
       "      <th>2</th>\n",
       "      <td>1910</td>\n",
       "      <td>448.0</td>\n",
       "      <td>135.0</td>\n",
       "      <td>859.0</td>\n",
       "    </tr>\n",
       "    <tr>\n",
       "      <th>3</th>\n",
       "      <td>1920</td>\n",
       "      <td>1190.0</td>\n",
       "      <td>284.0</td>\n",
       "      <td>1474.0</td>\n",
       "    </tr>\n",
       "    <tr>\n",
       "      <th>4</th>\n",
       "      <td>1930</td>\n",
       "      <td>3935.0</td>\n",
       "      <td>1046.0</td>\n",
       "      <td>3781.0</td>\n",
       "    </tr>\n",
       "    <tr>\n",
       "      <th>5</th>\n",
       "      <td>1940</td>\n",
       "      <td>3895.0</td>\n",
       "      <td>1639.0</td>\n",
       "      <td>4513.0</td>\n",
       "    </tr>\n",
       "    <tr>\n",
       "      <th>6</th>\n",
       "      <td>1950</td>\n",
       "      <td>5224.0</td>\n",
       "      <td>2393.0</td>\n",
       "      <td>6933.0</td>\n",
       "    </tr>\n",
       "    <tr>\n",
       "      <th>7</th>\n",
       "      <td>1960</td>\n",
       "      <td>6162.0</td>\n",
       "      <td>3032.0</td>\n",
       "      <td>8878.0</td>\n",
       "    </tr>\n",
       "    <tr>\n",
       "      <th>8</th>\n",
       "      <td>1970</td>\n",
       "      <td>6775.0</td>\n",
       "      <td>4537.0</td>\n",
       "      <td>13867.0</td>\n",
       "    </tr>\n",
       "    <tr>\n",
       "      <th>9</th>\n",
       "      <td>1980</td>\n",
       "      <td>8194.0</td>\n",
       "      <td>5052.0</td>\n",
       "      <td>16049.0</td>\n",
       "    </tr>\n",
       "    <tr>\n",
       "      <th>10</th>\n",
       "      <td>1990</td>\n",
       "      <td>10566.0</td>\n",
       "      <td>6938.0</td>\n",
       "      <td>20304.0</td>\n",
       "    </tr>\n",
       "    <tr>\n",
       "      <th>11</th>\n",
       "      <td>2000</td>\n",
       "      <td>16590.0</td>\n",
       "      <td>10201.0</td>\n",
       "      <td>28410.0</td>\n",
       "    </tr>\n",
       "    <tr>\n",
       "      <th>12</th>\n",
       "      <td>2010</td>\n",
       "      <td>29962.0</td>\n",
       "      <td>20123.0</td>\n",
       "      <td>57489.0</td>\n",
       "    </tr>\n",
       "    <tr>\n",
       "      <th>13</th>\n",
       "      <td>2020</td>\n",
       "      <td>27191.0</td>\n",
       "      <td>20982.0</td>\n",
       "      <td>54916.0</td>\n",
       "    </tr>\n",
       "  </tbody>\n",
       "</table>\n",
       "</div>"
      ],
      "text/plain": [
       "    Decade  Positive  Negative  Neutral\n",
       "0     1890       7.0       3.0      5.0\n",
       "1     1900      24.0      13.0     60.0\n",
       "2     1910     448.0     135.0    859.0\n",
       "3     1920    1190.0     284.0   1474.0\n",
       "4     1930    3935.0    1046.0   3781.0\n",
       "5     1940    3895.0    1639.0   4513.0\n",
       "6     1950    5224.0    2393.0   6933.0\n",
       "7     1960    6162.0    3032.0   8878.0\n",
       "8     1970    6775.0    4537.0  13867.0\n",
       "9     1980    8194.0    5052.0  16049.0\n",
       "10    1990   10566.0    6938.0  20304.0\n",
       "11    2000   16590.0   10201.0  28410.0\n",
       "12    2010   29962.0   20123.0  57489.0\n",
       "13    2020   27191.0   20982.0  54916.0"
      ]
     },
     "execution_count": 15,
     "metadata": {},
     "output_type": "execute_result"
    }
   ],
   "source": [
    "df_mood = pd.DataFrame(mood_data)\n",
    "#df_mood = df_mood.melt(id_vars=\"Decade\", var_name=\"Mood\", value_name=\"Value\") #Melting causes each \"shared data\" to be split up.\n",
    "df_mood"
   ]
  },
  {
   "cell_type": "code",
   "execution_count": 16,
   "metadata": {},
   "outputs": [
    {
     "data": {
      "application/vnd.jupyter.widget-view+json": {
       "model_id": "6417b5bf1b0f48219e4be18eb05d84b2",
       "version_major": 2,
       "version_minor": 0
      },
      "text/plain": [
       "interactive(children=(Dropdown(description='Decade:', options=(('1890', 1), ('1900', 2), ('1910', 3), ('1920',…"
      ]
     },
     "execution_count": 16,
     "metadata": {},
     "output_type": "execute_result"
    }
   ],
   "source": [
    "# Define the update function for the plot\n",
    "def update_pie_plot(decade_value):\n",
    "    decade_id = decade_value - 1\n",
    "    colors = [\"green\", \"red\", \"grey\"]\n",
    "    plt.figure(figsize=(10, 6))\n",
    "    plt.title(f\"Genre Distribution for the {decades[decade_id]}\")\n",
    "    plt.pie([df_mood[\"Positive\"].iloc[decade_id], df_mood[\"Negative\"].iloc[decade_id], df_mood[\"Neutral\"].iloc[decade_id]] , labels=[\"Positive\",\"Negative\",\"Neutral\"], autopct='%.0f%%', colors=colors) \n",
    "    plt.show()\n",
    "\n",
    "# Use widgets.interactive to automatically refresh the plot when a new decade is selected\n",
    "widgets.interactive(update_pie_plot, decade_value=decade_picker)"
   ]
  },
  {
   "cell_type": "markdown",
   "metadata": {},
   "source": [
    "Todo: Make a grap based on popularity of a genre / amount of movies in that genre"
   ]
  },
  {
   "cell_type": "code",
   "execution_count": 25,
   "metadata": {},
   "outputs": [
    {
     "name": "stdout",
     "output_type": "stream",
     "text": [
      "{1890: {'Comedy': 5, 'Fantasy': 4, 'Horror': 3, 'Drama': 1, 'Family': 1, 'Romance': 1}, 1900: {'Drama': 26, 'Fantasy': 18, 'Comedy': 15, 'History': 8, 'Adventure': 6, 'Horror': 6, 'Crime': 5, 'Science Fiction': 3, 'Action': 3, 'Family': 2, 'Western': 1, 'War': 1, 'Romance': 1, 'Mystery': 1, 'Thriller': 1}, 1910: {'Drama': 571, 'Comedy': 291, 'Western': 141, 'Romance': 91, 'Adventure': 58, 'Crime': 50, 'History': 44, 'Horror': 39, 'War': 34, 'Fantasy': 28, 'Action': 23, 'Science Fiction': 19, 'Mystery': 18, 'Thriller': 12, 'Family': 8, 'Animation': 8, 'Documentary': 7}, 1920: {'Drama': 1056, 'Comedy': 644, 'Romance': 362, 'Adventure': 134, 'Crime': 121, 'Western': 119, 'Action': 86, 'Horror': 74, 'History': 66, 'War': 51, 'Mystery': 50, 'Fantasy': 49, 'Thriller': 38, 'Music': 31, 'Family': 19, 'Science Fiction': 16, 'Documentary': 16, 'Animation': 16}, 1930: {'Drama': 2149, 'Comedy': 1857, 'Romance': 1122, 'Crime': 644, 'Music': 521, 'Western': 443, 'Adventure': 335, 'Mystery': 335, 'Action': 314, 'History': 182, 'Animation': 168, 'Thriller': 160, 'War': 125, 'Horror': 117, 'Family': 100, 'Documentary': 74, 'Fantasy': 62, 'Science Fiction': 50, 'TV Movie': 4}, 1940: {'Drama': 2316, 'Comedy': 1958, 'Romance': 929, 'Crime': 653, 'Animation': 495, 'Music': 489, 'Western': 470, 'War': 422, 'Mystery': 410, 'Thriller': 405, 'Adventure': 340, 'Action': 279, 'History': 205, 'Family': 179, 'Horror': 159, 'Documentary': 156, 'Fantasy': 125, 'Science Fiction': 52, 'TV Movie': 5}, 1950: {'Drama': 3980, 'Comedy': 2429, 'Romance': 1229, 'Crime': 1093, 'Adventure': 660, 'Western': 599, 'Music': 589, 'Thriller': 582, 'Animation': 454, 'Action': 412, 'War': 396, 'History': 322, 'Horror': 322, 'Family': 317, 'Mystery': 309, 'Documentary': 279, 'Science Fiction': 255, 'Fantasy': 197, 'TV Movie': 126}, 1960: {'Drama': 4676, 'Comedy': 2922, 'Romance': 1264, 'Crime': 1159, 'Adventure': 940, 'Action': 937, 'Thriller': 784, 'Horror': 683, 'Music': 616, 'Western': 541, 'Documentary': 464, 'Family': 420, 'Science Fiction': 410, 'War': 406, 'History': 392, 'TV Movie': 391, 'Mystery': 381, 'Animation': 358, 'Fantasy': 328}, 1970: {'Drama': 6698, 'Comedy': 3398, 'Action': 1798, 'TV Movie': 1760, 'Crime': 1501, 'Horror': 1380, 'Thriller': 1357, 'Romance': 1188, 'Adventure': 998, 'Family': 696, 'Documentary': 650, 'Mystery': 634, 'Science Fiction': 521, 'Music': 495, 'Animation': 489, 'Western': 459, 'Fantasy': 457, 'History': 401, 'War': 299}, 1980: {'Drama': 7252, 'Comedy': 4122, 'Action': 2220, 'TV Movie': 1993, 'Horror': 1757, 'Romance': 1617, 'Thriller': 1557, 'Crime': 1397, 'Adventure': 982, 'Documentary': 911, 'Science Fiction': 901, 'Family': 889, 'Animation': 876, 'Fantasy': 798, 'Music': 584, 'Mystery': 577, 'History': 404, 'War': 341, 'Western': 117}, 1990: {'Drama': 8914, 'Comedy': 5320, 'Action': 2870, 'Thriller': 2806, 'Romance': 2415, 'TV Movie': 2381, 'Crime': 2135, 'Horror': 1680, 'Documentary': 1546, 'Family': 1252, 'Science Fiction': 1137, 'Adventure': 1012, 'Fantasy': 1010, 'Animation': 981, 'Mystery': 793, 'Music': 567, 'History': 516, 'War': 317, 'Western': 156}, 2000: {'Drama': 13446, 'Comedy': 8296, 'Romance': 4070, 'Thriller': 3956, 'Horror': 3353, 'Action': 3301, 'Documentary': 3058, 'Crime': 2431, 'TV Movie': 2061, 'Family': 1794, 'Adventure': 1519, 'Animation': 1469, 'Mystery': 1399, 'Science Fiction': 1356, 'Fantasy': 1355, 'Music': 911, 'History': 826, 'War': 461, 'Western': 139}, 2010: {'Drama': 28471, 'Comedy': 15778, 'Thriller': 7966, 'Documentary': 7527, 'Horror': 7456, 'Romance': 6618, 'Action': 5198, 'Crime': 3802, 'Science Fiction': 3118, 'Family': 3109, 'Mystery': 2827, 'Fantasy': 2806, 'TV Movie': 2792, 'Adventure': 2609, 'Animation': 2495, 'History': 1968, 'Music': 1848, 'War': 899, 'Western': 287}, 2020: {'Drama': 27949, 'Comedy': 14954, 'Thriller': 8746, 'Horror': 8280, 'Documentary': 7350, 'Romance': 5764, 'Action': 3824, 'Crime': 3413, 'Mystery': 3114, 'Science Fiction': 3059, 'Fantasy': 2936, 'Family': 2686, 'TV Movie': 2473, 'Animation': 2271, 'Adventure': 1909, 'Music': 1878, 'History': 1560, 'War': 543, 'Western': 380}}\n"
     ]
    }
   ],
   "source": [
    "print(count_genres_once_per_movie())"
   ]
  },
  {
   "cell_type": "code",
   "execution_count": 18,
   "metadata": {},
   "outputs": [
    {
     "name": "stdout",
     "output_type": "stream",
     "text": [
      "{'Fantasy': 23.6, 'Horror': 21.08, 'Comedy': 15.92, 'Drama': 8.54, 'Family': 8.54, 'Romance': 8.54}\n"
     ]
    }
   ],
   "source": [
    "print(count_genres_weighted_by_popularity()[1890])"
   ]
  },
  {
   "cell_type": "code",
   "execution_count": 19,
   "metadata": {},
   "outputs": [],
   "source": [
    "popularity_weighted = count_genres_weighted_by_popularity()\n",
    "genre_counts = count_genres_weighted_by_count()\n",
    "\n",
    "def genre_popularity() -> dict:\n",
    "    \"\"\"Generates a dict that is the popularity per genre divided by the amount of times that genre appeared in the dataset.\n",
    "\n",
    "    Returns:\n",
    "        dict: dictionary for each genre with its popularity avrage rating.\n",
    "    \"\"\"\n",
    "    \n",
    "    for decade in sorted(df[\"decade\"].unique()):\n",
    "        for genre in popularity_weighted[decade]:\n",
    "            print(genre)"
   ]
  },
  {
   "cell_type": "code",
   "execution_count": 36,
   "metadata": {},
   "outputs": [
    {
     "name": "stdout",
     "output_type": "stream",
     "text": [
      "{1890: {'Fantasy': 8.58, 'Horror': 14.05, 'Comedy': 3.98, 'Drama': 34.16, 'Family': 34.16, 'Romance': 34.16}, 1900: {'Fantasy': 6.09, 'Drama': 2.79, 'Adventure': 14.44, 'Comedy': 2.57, 'Science Fiction': 25.71, 'History': 4.17, 'Crime': 8.58, 'Horror': 5.62, 'Action': 14.48, 'Family': 10.77, 'Western': 33.88, 'War': 20.64, 'Thriller': 12.97, 'Mystery': 1.82, 'Romance': 1.39}, 1910: {'Drama': 1.68, 'Comedy': 2.87, 'Romance': 3.97, 'Western': 1.25, 'Adventure': 3.54, 'History': 4.79, 'War': 5.21, 'Horror': 3.57, 'Fantasy': 4.98, 'Action': 4.71, 'Crime': 2.2, 'Science Fiction': 5.68, 'Thriller': 4.05, 'Animation': 5.01, 'Family': 6.47, 'Mystery': 1.72, 'Documentary': 1.68}, 1920: {'Drama': 3.15, 'Comedy': 2.94, 'Romance': 6.25, 'Adventure': 5.54, 'Horror': 10.88, 'Crime': 5.0, 'Fantasy': 8.88, 'Western': 2.37, 'Action': 5.61, 'History': 5.77, 'War': 7.57, 'Thriller': 9.74, 'Mystery': 4.52, 'Family': 10.85, 'Music': 4.72, 'Science Fiction': 9.39, 'Documentary': 5.64, 'Animation': 4.44}, 1930: {'Drama': 4.54, 'Comedy': 3.82, 'Romance': 7.96, 'Crime': 6.16, 'Adventure': 8.51, 'Music': 4.64, 'Western': 3.52, 'Mystery': 7.0, 'Action': 7.53, 'Horror': 13.34, 'Animation': 7.95, 'Thriller': 10.0, 'History': 7.81, 'War': 10.52, 'Family': 13.62, 'Fantasy': 19.87, 'Science Fiction': 13.08, 'Documentary': 2.67, 'TV Movie': 1.78}, 1940: {'Drama': 5.68, 'Comedy': 4.6, 'Romance': 10.56, 'Crime': 8.9, 'Thriller': 12.99, 'Mystery': 10.49, 'Animation': 6.19, 'War': 8.83, 'Western': 4.33, 'Music': 6.65, 'Adventure': 9.39, 'Action': 10.32, 'Family': 13.37, 'Fantasy': 18.98, 'Horror': 9.84, 'History': 6.42, 'Documentary': 2.1, 'Science Fiction': 11.95, 'TV Movie': 4.38}, 1950: {'Drama': 4.93, 'Comedy': 4.03, 'Romance': 9.79, 'Crime': 7.44, 'Western': 6.45, 'Adventure': 9.18, 'Thriller': 10.92, 'War': 9.56, 'Music': 6.36, 'Horror': 9.46, 'Science Fiction': 13.31, 'Animation': 5.74, 'Action': 8.98, 'History': 11.02, 'Mystery': 9.91, 'Family': 9.2, 'Fantasy': 12.99, 'Documentary': 1.5, 'TV Movie': 5.4}, 1960: {'Drama': 5.03, 'Comedy': 5.2, 'Romance': 8.56, 'Adventure': 10.28, 'Crime': 7.46, 'Thriller': 11.51, 'Action': 9.3, 'Horror': 8.31, 'Western': 7.86, 'Science Fiction': 11.91, 'War': 11.35, 'Family': 10.1, 'Mystery': 12.21, 'Music': 6.83, 'History': 10.37, 'Fantasy': 11.43, 'Animation': 4.78, 'TV Movie': 5.31, 'Documentary': 1.77}, 1970: {'Drama': 5.58, 'Comedy': 5.81, 'Action': 9.58, 'Thriller': 13.95, 'Horror': 9.72, 'Crime': 10.83, 'Adventure': 11.78, 'Romance': 8.46, 'TV Movie': 6.13, 'Science Fiction': 16.47, 'Mystery': 14.28, 'Family': 9.11, 'Western': 8.33, 'Fantasy': 11.79, 'History': 10.23, 'War': 13.29, 'Animation': 5.09, 'Music': 6.29, 'Documentary': 1.99}, 1980: {'Drama': 6.05, 'Comedy': 8.0, 'Action': 12.35, 'Horror': 11.5, 'Thriller': 15.86, 'Romance': 11.53, 'Crime': 13.91, 'Adventure': 20.44, 'Science Fiction': 18.86, 'Fantasy': 19.37, 'TV Movie': 6.46, 'Family': 11.47, 'Animation': 7.23, 'Mystery': 15.42, 'War': 14.92, 'Music': 7.19, 'History': 11.27, 'Documentary': 1.9, 'Western': 10.55}, 1990: {'Drama': 7.98, 'Comedy': 9.85, 'Action': 14.76, 'Thriller': 15.46, 'Romance': 15.23, 'Crime': 16.4, 'Adventure': 28.41, 'Family': 18.09, 'Horror': 9.67, 'Science Fiction': 18.2, 'Fantasy': 21.9, 'TV Movie': 8.07, 'Animation': 12.67, 'Mystery': 20.65, 'History': 14.14, 'Documentary': 2.01, 'Music': 7.23, 'War': 15.59, 'Western': 17.0}, 2000: {'Drama': 8.15, 'Comedy': 10.18, 'Thriller': 19.21, 'Action': 23.12, 'Romance': 15.47, 'Adventure': 42.24, 'Horror': 9.39, 'Crime': 19.48, 'Family': 24.88, 'Fantasy': 31.86, 'Animation': 18.73, 'Science Fiction': 24.2, 'Mystery': 21.48, 'TV Movie': 10.38, 'Documentary': 2.15, 'History': 15.75, 'War': 21.99, 'Music': 8.85, 'Western': 18.07}, 2010: {'Drama': 5.83, 'Comedy': 7.55, 'Thriller': 14.94, 'Action': 23.75, 'Horror': 7.51, 'Romance': 11.34, 'Adventure': 34.71, 'Crime': 16.55, 'Science Fiction': 17.53, 'Family': 17.27, 'Fantasy': 19.1, 'Animation': 16.44, 'Mystery': 15.74, 'Documentary': 2.16, 'TV Movie': 11.82, 'History': 12.83, 'Music': 7.02, 'War': 15.92, 'Western': 13.13}, 2020: {'Drama': 6.26, 'Comedy': 9.69, 'Thriller': 17.61, 'Action': 45.75, 'Horror': 10.27, 'Adventure': 56.6, 'Romance': 13.79, 'Science Fiction': 22.33, 'Family': 27.07, 'Crime': 21.07, 'Fantasy': 23.57, 'Animation': 23.72, 'Mystery': 15.0, 'Documentary': 2.46, 'History': 17.1, 'TV Movie': 11.75, 'Music': 7.16, 'War': 29.49, 'Western': 9.84}}\n"
     ]
    }
   ],
   "source": [
    "def genre_popularity() -> dict:\n",
    "    \"\"\"Generates a dict that is the popularity per genre divided by the amount of times that genre appeared in the dataset.\n",
    "\n",
    "    Returns:\n",
    "        dict: dictionary for each genre with its popularity avrage rating.\n",
    "    \"\"\"\n",
    "    decade_dict = {}\n",
    "    genre_dict = {}\n",
    "    popularity = 0\n",
    "    count = 0\n",
    "    for decade in sorted(df[\"decade\"].unique()):\n",
    "        genre_dict = {}\n",
    "        for genre in popularity_weighted[decade]:\n",
    "            \n",
    "            popularity = popularity_weighted[decade][genre]\n",
    "            count = genre_counts[decade][genre]\n",
    "            \n",
    "            genre_dict.update({genre:round(popularity/count,2)})\n",
    "        decade_dict.update({int(decade):genre_dict})\n",
    "    return decade_dict\n",
    "\n",
    "print(genre_popularity())"
   ]
  },
  {
   "cell_type": "code",
   "execution_count": 41,
   "metadata": {},
   "outputs": [
    {
     "data": {
      "application/vnd.jupyter.widget-view+json": {
       "model_id": "27e30e89d12d4baea4ed7ca205a0a7b5",
       "version_major": 2,
       "version_minor": 0
      },
      "text/plain": [
       "interactive(children=(Dropdown(description='Decade:', options=(('1890', 1), ('1900', 2), ('1910', 3), ('1920',…"
      ]
     },
     "execution_count": 41,
     "metadata": {},
     "output_type": "execute_result"
    }
   ],
   "source": [
    "df_genre_popularity = pd.DataFrame.from_dict(genre_popularity(), orient=\"index\")\n",
    "df_genre_popularity.fillna(0,inplace=True)\n",
    "\n",
    "\n",
    "decades = [str(i) for i in df[\"decade\"].unique()]\n",
    "decades = sorted(decades)\n",
    "\n",
    "decade_tup = [(item,index + 1) for index, item in enumerate(decades)]\n",
    "\n",
    "decade_picker = widgets.Dropdown(\n",
    "    options=decade_tup,\n",
    "    description=\"Decade:\",\n",
    ")\n",
    "decade_picker\n",
    "\n",
    "\n",
    "# Define the update function for the plot\n",
    "def update_bar_plot_genre_popularity(decade_value):\n",
    "    # Filter the data based on the selected decade\n",
    "    df_decade = df[df[\"decade\"] == decade_value]\n",
    "    \n",
    "    # Assuming 'df_genres' has columns for genres and rows for counts or other metrics\n",
    "    # Adjust this as per your specific data structure\n",
    "    plt.figure(figsize=(10, 6))\n",
    "    plt.barh(df_genre_popularity.columns, df_genre_popularity.iloc[decade_value - 1])  # Adjust based on your data\n",
    "    plt.title(f\"Genre Popularity for the {decades[decade_value - 1]}\")\n",
    "    plt.xlabel(\"Count\")\n",
    "    plt.ylabel(\"Genres\")\n",
    "    plt.show()\n",
    "\n",
    "# Use widgets.interactive to automatically refresh the plot when a new decade is selected\n",
    "widgets.interactive(update_bar_plot_genre_popularity, decade_value=decade_picker)\n"
   ]
  },
  {
   "cell_type": "code",
   "execution_count": 38,
   "metadata": {},
   "outputs": [
    {
     "data": {
      "text/html": [
       "<div>\n",
       "<style scoped>\n",
       "    .dataframe tbody tr th:only-of-type {\n",
       "        vertical-align: middle;\n",
       "    }\n",
       "\n",
       "    .dataframe tbody tr th {\n",
       "        vertical-align: top;\n",
       "    }\n",
       "\n",
       "    .dataframe thead th {\n",
       "        text-align: right;\n",
       "    }\n",
       "</style>\n",
       "<table border=\"1\" class=\"dataframe\">\n",
       "  <thead>\n",
       "    <tr style=\"text-align: right;\">\n",
       "      <th></th>\n",
       "      <th>Fantasy</th>\n",
       "      <th>Horror</th>\n",
       "      <th>Comedy</th>\n",
       "      <th>Drama</th>\n",
       "      <th>Family</th>\n",
       "      <th>Romance</th>\n",
       "      <th>Adventure</th>\n",
       "      <th>Science Fiction</th>\n",
       "      <th>History</th>\n",
       "      <th>Crime</th>\n",
       "      <th>Action</th>\n",
       "      <th>Western</th>\n",
       "      <th>War</th>\n",
       "      <th>Thriller</th>\n",
       "      <th>Mystery</th>\n",
       "      <th>Animation</th>\n",
       "      <th>Documentary</th>\n",
       "      <th>Music</th>\n",
       "      <th>TV Movie</th>\n",
       "    </tr>\n",
       "  </thead>\n",
       "  <tbody>\n",
       "    <tr>\n",
       "      <th>1890</th>\n",
       "      <td>8.58</td>\n",
       "      <td>14.05</td>\n",
       "      <td>3.98</td>\n",
       "      <td>34.16</td>\n",
       "      <td>34.16</td>\n",
       "      <td>34.16</td>\n",
       "      <td>0.00</td>\n",
       "      <td>0.00</td>\n",
       "      <td>0.00</td>\n",
       "      <td>0.00</td>\n",
       "      <td>0.00</td>\n",
       "      <td>0.00</td>\n",
       "      <td>0.00</td>\n",
       "      <td>0.00</td>\n",
       "      <td>0.00</td>\n",
       "      <td>0.00</td>\n",
       "      <td>0.00</td>\n",
       "      <td>0.00</td>\n",
       "      <td>0.00</td>\n",
       "    </tr>\n",
       "    <tr>\n",
       "      <th>1900</th>\n",
       "      <td>6.09</td>\n",
       "      <td>5.62</td>\n",
       "      <td>2.57</td>\n",
       "      <td>2.79</td>\n",
       "      <td>10.77</td>\n",
       "      <td>1.39</td>\n",
       "      <td>14.44</td>\n",
       "      <td>25.71</td>\n",
       "      <td>4.17</td>\n",
       "      <td>8.58</td>\n",
       "      <td>14.48</td>\n",
       "      <td>33.88</td>\n",
       "      <td>20.64</td>\n",
       "      <td>12.97</td>\n",
       "      <td>1.82</td>\n",
       "      <td>0.00</td>\n",
       "      <td>0.00</td>\n",
       "      <td>0.00</td>\n",
       "      <td>0.00</td>\n",
       "    </tr>\n",
       "    <tr>\n",
       "      <th>1910</th>\n",
       "      <td>4.98</td>\n",
       "      <td>3.57</td>\n",
       "      <td>2.87</td>\n",
       "      <td>1.68</td>\n",
       "      <td>6.47</td>\n",
       "      <td>3.97</td>\n",
       "      <td>3.54</td>\n",
       "      <td>5.68</td>\n",
       "      <td>4.79</td>\n",
       "      <td>2.20</td>\n",
       "      <td>4.71</td>\n",
       "      <td>1.25</td>\n",
       "      <td>5.21</td>\n",
       "      <td>4.05</td>\n",
       "      <td>1.72</td>\n",
       "      <td>5.01</td>\n",
       "      <td>1.68</td>\n",
       "      <td>0.00</td>\n",
       "      <td>0.00</td>\n",
       "    </tr>\n",
       "    <tr>\n",
       "      <th>1920</th>\n",
       "      <td>8.88</td>\n",
       "      <td>10.88</td>\n",
       "      <td>2.94</td>\n",
       "      <td>3.15</td>\n",
       "      <td>10.85</td>\n",
       "      <td>6.25</td>\n",
       "      <td>5.54</td>\n",
       "      <td>9.39</td>\n",
       "      <td>5.77</td>\n",
       "      <td>5.00</td>\n",
       "      <td>5.61</td>\n",
       "      <td>2.37</td>\n",
       "      <td>7.57</td>\n",
       "      <td>9.74</td>\n",
       "      <td>4.52</td>\n",
       "      <td>4.44</td>\n",
       "      <td>5.64</td>\n",
       "      <td>4.72</td>\n",
       "      <td>0.00</td>\n",
       "    </tr>\n",
       "    <tr>\n",
       "      <th>1930</th>\n",
       "      <td>19.87</td>\n",
       "      <td>13.34</td>\n",
       "      <td>3.82</td>\n",
       "      <td>4.54</td>\n",
       "      <td>13.62</td>\n",
       "      <td>7.96</td>\n",
       "      <td>8.51</td>\n",
       "      <td>13.08</td>\n",
       "      <td>7.81</td>\n",
       "      <td>6.16</td>\n",
       "      <td>7.53</td>\n",
       "      <td>3.52</td>\n",
       "      <td>10.52</td>\n",
       "      <td>10.00</td>\n",
       "      <td>7.00</td>\n",
       "      <td>7.95</td>\n",
       "      <td>2.67</td>\n",
       "      <td>4.64</td>\n",
       "      <td>1.78</td>\n",
       "    </tr>\n",
       "  </tbody>\n",
       "</table>\n",
       "</div>"
      ],
      "text/plain": [
       "      Fantasy  Horror  Comedy  Drama  Family  Romance  Adventure  \\\n",
       "1890     8.58   14.05    3.98  34.16   34.16    34.16       0.00   \n",
       "1900     6.09    5.62    2.57   2.79   10.77     1.39      14.44   \n",
       "1910     4.98    3.57    2.87   1.68    6.47     3.97       3.54   \n",
       "1920     8.88   10.88    2.94   3.15   10.85     6.25       5.54   \n",
       "1930    19.87   13.34    3.82   4.54   13.62     7.96       8.51   \n",
       "\n",
       "      Science Fiction  History  Crime  Action  Western    War  Thriller  \\\n",
       "1890             0.00     0.00   0.00    0.00     0.00   0.00      0.00   \n",
       "1900            25.71     4.17   8.58   14.48    33.88  20.64     12.97   \n",
       "1910             5.68     4.79   2.20    4.71     1.25   5.21      4.05   \n",
       "1920             9.39     5.77   5.00    5.61     2.37   7.57      9.74   \n",
       "1930            13.08     7.81   6.16    7.53     3.52  10.52     10.00   \n",
       "\n",
       "      Mystery  Animation  Documentary  Music  TV Movie  \n",
       "1890     0.00       0.00         0.00   0.00      0.00  \n",
       "1900     1.82       0.00         0.00   0.00      0.00  \n",
       "1910     1.72       5.01         1.68   0.00      0.00  \n",
       "1920     4.52       4.44         5.64   4.72      0.00  \n",
       "1930     7.00       7.95         2.67   4.64      1.78  "
      ]
     },
     "execution_count": 38,
     "metadata": {},
     "output_type": "execute_result"
    }
   ],
   "source": [
    "df_genre_popularity.head()"
   ]
  },
  {
   "cell_type": "code",
   "execution_count": null,
   "metadata": {},
   "outputs": [],
   "source": []
  }
 ],
 "metadata": {
  "kernelspec": {
   "display_name": "Python 3",
   "language": "python",
   "name": "python3"
  },
  "language_info": {
   "codemirror_mode": {
    "name": "ipython",
    "version": 3
   },
   "file_extension": ".py",
   "mimetype": "text/x-python",
   "name": "python",
   "nbconvert_exporter": "python",
   "pygments_lexer": "ipython3",
   "version": "3.13.1"
  }
 },
 "nbformat": 4,
 "nbformat_minor": 2
}
