{
 "cells": [
  {
   "cell_type": "markdown",
   "metadata": {},
   "source": [
    "# Data analysis of TMDB\n",
    "Ih this task I am going to do some data analysis of movies and tv shows that are in The Movie DataBase.\n",
    "The insights I am going to find is the following:\n",
    "- What directors have made most movies and/or tv-shows.\n",
    "- What actors have been the most active.\n",
    "- What genres was the most popular per decade."
   ]
  },
  {
   "cell_type": "markdown",
   "metadata": {},
   "source": [
    "## Getting the data\n",
    "\n",
    "I was at first going to just use [TMDB's API](https://developer.themoviedb.org/reference/intro/getting-started), but I encountered a problem. When I was trying to call for the 501th page (i.e. pages 500+) it gave me a error with the text `Invalid page: Pages start at 1 and max at 500. They are expected to be an integer.`, this is quite annoying since the amount of pages as today (16 01 2025) is a whoping `48184`. And with the page limit I would only be able to access **just a bit over 1%** using this method. I did then discover the [daily ID](https://developer.themoviedb.org/docs/daily-id-exports) lists that they have. This was pretty sweet, but sadly i stumbled upon a me problem this time, my code was not good enough and I did not know how to improve it further, a aproximatly 190 hours of processing time to find directors from just the `People` list? Not acceptable, I then went for something a bit easier, I found this lovely [.csv file](https://www.kaggle.com/datasets/alanvourch/tmdb-movies-daily-updates) that user Alan Vourc'h had uploaded to Kaggle, and that file is what I am goign to use for this project."
   ]
  },
  {
   "cell_type": "markdown",
   "metadata": {},
   "source": [
    "## Start of code\n",
    "I am going to use Python as my coding language, since it is what I am the most comfortable with.\n",
    "\n",
    "The very first thing I do is choose my modules for my code:\n",
    "- I chose `pandas` as my module of choice to handle the .csv file.\n",
    "- I chose `numpy` for its usefull math library.\n",
    "- I chose `seaborn` for its posibility to visualize data in a friendly way.\n",
    "- I chose `matplotlib.pyplot` for making graphing possible.\n",
    "- I chose `date` from `datetime` for removing movies that have not been released yet.\n",
    "- I chose `Counter` from `collections` to go over how often a genre shows up."
   ]
  },
  {
   "cell_type": "code",
   "execution_count": 25,
   "metadata": {},
   "outputs": [],
   "source": [
    "import pandas as pd\n",
    "import numpy as np\n",
    "import seaborn as sns\n",
    "import matplotlib.pyplot as plt\n",
    "from datetime import date\n",
    "from collections import Counter"
   ]
  },
  {
   "cell_type": "markdown",
   "metadata": {},
   "source": [
    "Then since the file itself has many columns that I do not need, I made a list for them, and put that list in to the `usecols` parametre in panas' `read_csv`."
   ]
  },
  {
   "cell_type": "code",
   "execution_count": 2,
   "metadata": {},
   "outputs": [],
   "source": [
    "\n",
    "fields = [\"title\",\"id\",\"popularity\",\"vote_average\",\"vote_count\",\"release_date\",\"revenue\",\"budget\",\"runtime\",\"genres\",\"cast\",\"director\",\"writers\",\"producers\",\"imdb_rating\",\"imdb_votes\"] # Put the info you want here\n",
    "\n",
    "df = pd.read_csv(r\"Data\\TMDB_all_movies.csv\", skipinitialspace=True, usecols=fields)"
   ]
  },
  {
   "cell_type": "markdown",
   "metadata": {},
   "source": [
    "Then, since there are some rows that had `NAN` as their values, i changed those to a 0 where it was fitting. (I did not do this for the movies with no credits, they are filtered out.) \n",
    "I also set the index to be the movies ID."
   ]
  },
  {
   "cell_type": "code",
   "execution_count": 3,
   "metadata": {},
   "outputs": [
    {
     "name": "stderr",
     "output_type": "stream",
     "text": [
      "C:\\Users\\Bruker\\AppData\\Local\\Temp\\ipykernel_12348\\175845122.py:5: FutureWarning: A value is trying to be set on a copy of a DataFrame or Series through chained assignment using an inplace method.\n",
      "The behavior will change in pandas 3.0. This inplace method will never work because the intermediate object on which we are setting values always behaves as a copy.\n",
      "\n",
      "For example, when doing 'df[col].method(value, inplace=True)', try using 'df.method({col: value}, inplace=True)' or df[col] = df[col].method(value) instead, to perform the operation inplace on the original object.\n",
      "\n",
      "\n",
      "  df[i].fillna(0,inplace=True)\n"
     ]
    }
   ],
   "source": [
    "#Data cleaning START\n",
    "df.set_index(\"id\", inplace=True) #Sets the index to be the movies ID\n",
    "\n",
    "for i in [\"vote_average\",\"vote_count\",\"revenue\",\"budget\",\"imdb_rating\",\"imdb_votes\"]:\n",
    "    df[i].fillna(0,inplace=True)\n",
    "    #This replaces NAN values with in the list to 0\n",
    "\n",
    "\n",
    "df[\"release_date\"] = pd.to_datetime(df[\"release_date\"]) #Turns the dates in to the date format\n",
    "\n",
    "today = pd.to_datetime(date.today())\n",
    "df = df[df[\"release_date\"] <= today] #This removes movies that are in the dataset that are not out yet.\n",
    "\n",
    "df.drop_duplicates(inplace = True)\n",
    "\n",
    "df.dropna(inplace=True)\n",
    "#Data cleaning END"
   ]
  },
  {
   "cell_type": "markdown",
   "metadata": {},
   "source": [
    "## The First Question\n",
    "\n",
    "So to find out who has directed the most movies, and how many movies they have directed I do a quick query on the `director` collumn."
   ]
  },
  {
   "cell_type": "code",
   "execution_count": 4,
   "metadata": {},
   "outputs": [
    {
     "data": {
      "text/plain": [
       "count             225889\n",
       "unique            106871\n",
       "top       David DeCoteau\n",
       "freq                 142\n",
       "Name: director, dtype: object"
      ]
     },
     "execution_count": 4,
     "metadata": {},
     "output_type": "execute_result"
    }
   ],
   "source": [
    "df[\"director\"].describe(include=\"object\")"
   ]
  },
  {
   "cell_type": "markdown",
   "metadata": {},
   "source": [
    "And here I look at the `top` in the terminal to find out that it is David DeCoteau that has directed the most movies, and by looking at `freq` that he has directed 142 movies."
   ]
  },
  {
   "cell_type": "markdown",
   "metadata": {},
   "source": [
    "## The Second Question\n",
    "\n",
    "Now to find the person whom has acted in the most movies, this is found in a very similar way to the first question, but now I will use the collumn `cast`."
   ]
  },
  {
   "cell_type": "code",
   "execution_count": 5,
   "metadata": {},
   "outputs": [
    {
     "data": {
      "text/plain": [
       "count        225889\n",
       "unique       223313\n",
       "top       Mel Blanc\n",
       "freq            139\n",
       "Name: cast, dtype: object"
      ]
     },
     "execution_count": 5,
     "metadata": {},
     "output_type": "execute_result"
    }
   ],
   "source": [
    "df[\"cast\"].describe(include=\"object\")"
   ]
  },
  {
   "cell_type": "markdown",
   "metadata": {},
   "source": [
    "And it is Mel Blanc that has played in the most movies, in 139 of them."
   ]
  },
  {
   "cell_type": "markdown",
   "metadata": {},
   "source": [
    "## The Third Question\n",
    "\n",
    "Now to find out what genres are the most popular per decade, I first divide up each movie in to the decades that they are in."
   ]
  },
  {
   "cell_type": "code",
   "execution_count": 22,
   "metadata": {},
   "outputs": [],
   "source": [
    "df[\"decade\"] = (df[\"release_date\"].dt.year // 10) * 10"
   ]
  },
  {
   "cell_type": "markdown",
   "metadata": {},
   "source": [
    "I then run a `df.head()` to make sure that the new collumn `decade` has been added."
   ]
  },
  {
   "cell_type": "code",
   "execution_count": 7,
   "metadata": {},
   "outputs": [
    {
     "data": {
      "text/html": [
       "<div>\n",
       "<style scoped>\n",
       "    .dataframe tbody tr th:only-of-type {\n",
       "        vertical-align: middle;\n",
       "    }\n",
       "\n",
       "    .dataframe tbody tr th {\n",
       "        vertical-align: top;\n",
       "    }\n",
       "\n",
       "    .dataframe thead th {\n",
       "        text-align: right;\n",
       "    }\n",
       "</style>\n",
       "<table border=\"1\" class=\"dataframe\">\n",
       "  <thead>\n",
       "    <tr style=\"text-align: right;\">\n",
       "      <th></th>\n",
       "      <th>title</th>\n",
       "      <th>vote_average</th>\n",
       "      <th>vote_count</th>\n",
       "      <th>release_date</th>\n",
       "      <th>revenue</th>\n",
       "      <th>runtime</th>\n",
       "      <th>budget</th>\n",
       "      <th>popularity</th>\n",
       "      <th>genres</th>\n",
       "      <th>cast</th>\n",
       "      <th>director</th>\n",
       "      <th>writers</th>\n",
       "      <th>producers</th>\n",
       "      <th>imdb_rating</th>\n",
       "      <th>imdb_votes</th>\n",
       "      <th>decade</th>\n",
       "    </tr>\n",
       "    <tr>\n",
       "      <th>id</th>\n",
       "      <th></th>\n",
       "      <th></th>\n",
       "      <th></th>\n",
       "      <th></th>\n",
       "      <th></th>\n",
       "      <th></th>\n",
       "      <th></th>\n",
       "      <th></th>\n",
       "      <th></th>\n",
       "      <th></th>\n",
       "      <th></th>\n",
       "      <th></th>\n",
       "      <th></th>\n",
       "      <th></th>\n",
       "      <th></th>\n",
       "      <th></th>\n",
       "    </tr>\n",
       "  </thead>\n",
       "  <tbody>\n",
       "    <tr>\n",
       "      <th>2</th>\n",
       "      <td>Ariel</td>\n",
       "      <td>7.100</td>\n",
       "      <td>338.0</td>\n",
       "      <td>1988-10-21</td>\n",
       "      <td>0.0</td>\n",
       "      <td>73.0</td>\n",
       "      <td>0.0</td>\n",
       "      <td>12.553</td>\n",
       "      <td>Comedy, Drama, Romance, Crime</td>\n",
       "      <td>Jyrki Olsonen, Jaakko Talaskivi, Olli Varja, H...</td>\n",
       "      <td>Aki Kaurismäki</td>\n",
       "      <td>Aki Kaurismäki</td>\n",
       "      <td>Aki Kaurismäki</td>\n",
       "      <td>7.4</td>\n",
       "      <td>8892.0</td>\n",
       "      <td>1980</td>\n",
       "    </tr>\n",
       "    <tr>\n",
       "      <th>3</th>\n",
       "      <td>Shadows in Paradise</td>\n",
       "      <td>7.300</td>\n",
       "      <td>402.0</td>\n",
       "      <td>1986-10-17</td>\n",
       "      <td>0.0</td>\n",
       "      <td>74.0</td>\n",
       "      <td>0.0</td>\n",
       "      <td>16.411</td>\n",
       "      <td>Comedy, Drama, Romance</td>\n",
       "      <td>Sirkka Silin, Helmeri Pellonpää, Tanja Talaski...</td>\n",
       "      <td>Aki Kaurismäki</td>\n",
       "      <td>Aki Kaurismäki</td>\n",
       "      <td>Mika Kaurismäki</td>\n",
       "      <td>7.5</td>\n",
       "      <td>7681.0</td>\n",
       "      <td>1980</td>\n",
       "    </tr>\n",
       "    <tr>\n",
       "      <th>5</th>\n",
       "      <td>Four Rooms</td>\n",
       "      <td>5.900</td>\n",
       "      <td>2650.0</td>\n",
       "      <td>1995-12-09</td>\n",
       "      <td>4257354.0</td>\n",
       "      <td>98.0</td>\n",
       "      <td>4000000.0</td>\n",
       "      <td>19.476</td>\n",
       "      <td>Comedy</td>\n",
       "      <td>Lili Taylor, Valeria Golino, Marisa Tomei, Mar...</td>\n",
       "      <td>Quentin Tarantino, Robert Rodriguez, Allison A...</td>\n",
       "      <td>Quentin Tarantino, Robert Rodriguez, Allison A...</td>\n",
       "      <td>Quentin Tarantino, Lawrence Bender, Alexandre ...</td>\n",
       "      <td>6.7</td>\n",
       "      <td>113177.0</td>\n",
       "      <td>1990</td>\n",
       "    </tr>\n",
       "    <tr>\n",
       "      <th>6</th>\n",
       "      <td>Judgment Night</td>\n",
       "      <td>6.500</td>\n",
       "      <td>333.0</td>\n",
       "      <td>1993-10-15</td>\n",
       "      <td>12136938.0</td>\n",
       "      <td>109.0</td>\n",
       "      <td>21000000.0</td>\n",
       "      <td>12.110</td>\n",
       "      <td>Action, Crime, Thriller</td>\n",
       "      <td>Stephen Dorff, Everlast, Will Zahrn, Emilio Es...</td>\n",
       "      <td>Stephen Hopkins</td>\n",
       "      <td>Jere Cunningham, Lewis Colick</td>\n",
       "      <td>Gene Levy, Marilyn Vance, Lloyd Segan</td>\n",
       "      <td>6.6</td>\n",
       "      <td>19493.0</td>\n",
       "      <td>1990</td>\n",
       "    </tr>\n",
       "    <tr>\n",
       "      <th>9</th>\n",
       "      <td>Sunday in August</td>\n",
       "      <td>7.135</td>\n",
       "      <td>26.0</td>\n",
       "      <td>2004-09-02</td>\n",
       "      <td>0.0</td>\n",
       "      <td>15.0</td>\n",
       "      <td>0.0</td>\n",
       "      <td>2.729</td>\n",
       "      <td>Drama</td>\n",
       "      <td>Rita Lengyel, Milton Welsh</td>\n",
       "      <td>Marc Meyer, Anna Haas</td>\n",
       "      <td>Marc Meyer</td>\n",
       "      <td>Marc Meyer</td>\n",
       "      <td>6.8</td>\n",
       "      <td>14.0</td>\n",
       "      <td>2000</td>\n",
       "    </tr>\n",
       "  </tbody>\n",
       "</table>\n",
       "</div>"
      ],
      "text/plain": [
       "                  title  vote_average  vote_count release_date     revenue  \\\n",
       "id                                                                           \n",
       "2                 Ariel         7.100       338.0   1988-10-21         0.0   \n",
       "3   Shadows in Paradise         7.300       402.0   1986-10-17         0.0   \n",
       "5            Four Rooms         5.900      2650.0   1995-12-09   4257354.0   \n",
       "6        Judgment Night         6.500       333.0   1993-10-15  12136938.0   \n",
       "9      Sunday in August         7.135        26.0   2004-09-02         0.0   \n",
       "\n",
       "    runtime      budget  popularity                         genres  \\\n",
       "id                                                                   \n",
       "2      73.0         0.0      12.553  Comedy, Drama, Romance, Crime   \n",
       "3      74.0         0.0      16.411         Comedy, Drama, Romance   \n",
       "5      98.0   4000000.0      19.476                         Comedy   \n",
       "6     109.0  21000000.0      12.110        Action, Crime, Thriller   \n",
       "9      15.0         0.0       2.729                          Drama   \n",
       "\n",
       "                                                 cast  \\\n",
       "id                                                      \n",
       "2   Jyrki Olsonen, Jaakko Talaskivi, Olli Varja, H...   \n",
       "3   Sirkka Silin, Helmeri Pellonpää, Tanja Talaski...   \n",
       "5   Lili Taylor, Valeria Golino, Marisa Tomei, Mar...   \n",
       "6   Stephen Dorff, Everlast, Will Zahrn, Emilio Es...   \n",
       "9                          Rita Lengyel, Milton Welsh   \n",
       "\n",
       "                                             director  \\\n",
       "id                                                      \n",
       "2                                      Aki Kaurismäki   \n",
       "3                                      Aki Kaurismäki   \n",
       "5   Quentin Tarantino, Robert Rodriguez, Allison A...   \n",
       "6                                     Stephen Hopkins   \n",
       "9                               Marc Meyer, Anna Haas   \n",
       "\n",
       "                                              writers  \\\n",
       "id                                                      \n",
       "2                                      Aki Kaurismäki   \n",
       "3                                      Aki Kaurismäki   \n",
       "5   Quentin Tarantino, Robert Rodriguez, Allison A...   \n",
       "6                       Jere Cunningham, Lewis Colick   \n",
       "9                                          Marc Meyer   \n",
       "\n",
       "                                            producers  imdb_rating  \\\n",
       "id                                                                   \n",
       "2                                      Aki Kaurismäki          7.4   \n",
       "3                                     Mika Kaurismäki          7.5   \n",
       "5   Quentin Tarantino, Lawrence Bender, Alexandre ...          6.7   \n",
       "6               Gene Levy, Marilyn Vance, Lloyd Segan          6.6   \n",
       "9                                          Marc Meyer          6.8   \n",
       "\n",
       "    imdb_votes  decade  \n",
       "id                      \n",
       "2       8892.0    1980  \n",
       "3       7681.0    1980  \n",
       "5     113177.0    1990  \n",
       "6      19493.0    1990  \n",
       "9         14.0    2000  "
      ]
     },
     "execution_count": 7,
     "metadata": {},
     "output_type": "execute_result"
    }
   ],
   "source": [
    "df.head()"
   ]
  },
  {
   "cell_type": "markdown",
   "metadata": {},
   "source": [
    "And it has!\n",
    "I will now gothrough each movie and find its genres, I am going to test a few diffrent aproaches for this:\n",
    "1. I will tally up the genres for each movie, so if a movie is a `drama` & `comedy` movie that was released in the decade `1980`, the decade `1980` will have `1 drama movie` \"point\" and `1 comedy movie` \"point\"\n",
    "2. I will do similar as in 1., but instead each movie will count as a fraction (`1/n` where `n` is the amount of genres that movie has). So the same movie in method 1. the decade `1980` will have `0.5 drama movie` \"points\" and `0.5 comedy movie` \"points\".\n",
    "3. Similar as to 1., but this time the `popularity` collumn will play in, if the movie in method 1. has a `popularity` score of `10` the decade `1980` will have `10 drama movie` \"points\" and `10 comedy movie` \"points\".\n",
    "4. Similar as to 3, but this time based on method 2., so it will divide the popularity on the amount of genres. So then the decade `1980` will have `5 drama movie` \"points\" and `5 comedy movie` \"points\"."
   ]
  },
  {
   "cell_type": "markdown",
   "metadata": {},
   "source": [
    "I wanted to do this with multiple different aproaches, the first and third might give a slightly \"bloated\" feeling when it comes to genres, since a movie rarely has only one genre. Therfore I made the second and fourth aproaches. And for the first and second aproach versus third and fourth aproach, I thought it would be interesting to see if the most common genres per dacade was the most popular ones"
   ]
  },
  {
   "cell_type": "code",
   "execution_count": null,
   "metadata": {},
   "outputs": [],
   "source": []
  },
  {
   "cell_type": "markdown",
   "metadata": {},
   "source": [
    "I start with finding out all the diffrent decades in the data set."
   ]
  },
  {
   "cell_type": "code",
   "execution_count": 30,
   "metadata": {},
   "outputs": [
    {
     "name": "stdout",
     "output_type": "stream",
     "text": [
      "[1980 1990 2000 1970 1940 1920 1960 1930 1950 2010 1910 1900 2020 1890]\n"
     ]
    }
   ],
   "source": [
    "print(df[\"decade\"].unique())"
   ]
  },
  {
   "cell_type": "markdown",
   "metadata": {},
   "source": [
    "Now with the diffrent decades, i go through each movie in the list, starting with the earliest decade. I then use the `pandas.explode()` to get a copy of each genre per movie by itself. Then I use `Counter` to count how many induvidual times each genre shows up, add it to a dictionary, and then go on to the next decade. I repeat this untuil there are no more decades."
   ]
  },
  {
   "cell_type": "code",
   "execution_count": 76,
   "metadata": {},
   "outputs": [],
   "source": [
    "def count_genres_once_per_movie() -> dict:\n",
    "    \"\"\"\n",
    "    Goes through each movie in the data frame, going decade by decade, starting with the earliest decade.\n",
    "    Then it splits up each genre in to its own \"copy\" of the movie with with `.explode()`.\n",
    "    It then with `Counter()` it counts all the genres and how many times they showed up in that decade.\n",
    "    Then it adds the value for each genre, the value is the amount of times a movie has that genre.\n",
    "    Then it goes to the next decade.\n",
    "    returns:\n",
    "        dict: a dict of each decade, and its popularity\n",
    "    \"\"\"\n",
    "    \n",
    "    genre_popularity_per_decade = {}\n",
    "    \n",
    "    for decade in sorted(df[\"decade\"].unique()):\n",
    "        temporary_df = df[df[\"decade\"] == decade]\n",
    "        #I first use the pandas .explode() method to get each genre for itself\n",
    "        all_genres_that_decade = temporary_df[\"genres\"].str.split(\", \").explode()\n",
    "        genre_count = Counter(all_genres_that_decade)\n",
    "        sorted_genres = dict(sorted(genre_count.items(), key=lambda x: x[1], reverse=True)) #Makes it so that each genre in the decade dicts are sorted with the most often at the top.\n",
    "\n",
    "        genre_popularity_per_decade[int(decade)] = dict(sorted_genres)\n",
    "\n",
    "        \n",
    "    return genre_popularity_per_decade    \n",
    "\n",
    "def count_genres_weighted_by_count() -> dict:\n",
    "    \"\"\"Goes through each movie in the data frame, then for each movie, it gets its genres, and logs how many genres that movie id had.\n",
    "    Then it splits up each genre in to its own \"copy\" of the movie with with `.explode()`.\n",
    "    It then with `Counter()` it counts all the genres and how many times they showed up in that decade.\n",
    "    Then it adds the value for each genre, the value is the amount of times a movie has that genre, divided on how many genres that movie had.\n",
    "    Then it goes to the next decade.\n",
    "\n",
    "    returns:\n",
    "        dict: a dict of each decade, and its popularity\n",
    "    \"\"\"\n",
    "    \n",
    "    genre_popularity_per_decade = {}\n",
    "    \n",
    "    for decade in sorted(df[\"decade\"].unique()):\n",
    "        temporary_df = df[df[\"decade\"] == decade]\n",
    "        \n",
    "        genre_weights = Counter()\n",
    "        \n",
    "        for genres in temporary_df[\"genres\"]:\n",
    "            genre_list = genres.split(\", \")\n",
    "            weight = 1 / len(genre_list)\n",
    "            \n",
    "            \n",
    "            for genre in genre_list:\n",
    "                genre_weights[genre] += weight\n",
    "            \n",
    "        rounded_weights = {genre: round(weight, 2) for genre, weight in genre_weights.items()} #Makes it so that each genre in the finished dict is rounded, if i rounded it in the loop above it did not work.\n",
    "        sorted_genres = dict(sorted(rounded_weights.items(), key=lambda x: x[1], reverse=True)) #Makes it so that each genre in the decade dicts are sorted with the most often at the top.\n",
    "            \n",
    "        genre_popularity_per_decade[int(decade)] = dict(sorted_genres)\n",
    "    \n",
    "    return genre_popularity_per_decade  \n",
    "\n",
    "def count_genres_weighted_by_popularity() -> dict:\n",
    "    \"\"\"\n",
    "    Goes through each movie in the data frame, going decade by decade, starting with the earliest decade, also gets the movies popularity.\n",
    "    Then it splits up each genre in to its own \"copy\" of the movie with with `.explode()`.\n",
    "    It then with `Counter()` it counts all the genres and how many times they showed up in that decade, multiplied with that movies popularity.\n",
    "    Then it goes to the next decade.\n",
    "    \n",
    "    returns:\n",
    "        dict: a dict of each decade, and its popularity\n",
    "    \"\"\"\n",
    "    \n",
    "    genre_popularity_per_decade = {}\n",
    "    \n",
    "    for decade in sorted(df[\"decade\"].unique()):\n",
    "        temporary_df = df[df[\"decade\"] == decade]\n",
    "        \n",
    "        genre_weights = Counter()\n",
    "        \n",
    "        for _, row in temporary_df.iterrows():\n",
    "            genres = row[\"genres\"].split(\", \")\n",
    "            popularity = row[\"popularity\"]  # Get the popularity for the movie\n",
    "            \n",
    "            \n",
    "            for genre in genres:\n",
    "                genre_weights[genre] += popularity\n",
    "            \n",
    "        rounded_weights = {genre: round(weight, 2) for genre, weight in genre_weights.items()} #Makes it so that each genre in the finished dict is rounded, if i rounded it in the loop above it did not work.\n",
    "        sorted_genres = dict(sorted(rounded_weights.items(), key=lambda x: x[1], reverse=True)) #Makes it so that each genre in the decade dicts are sorted with the most often at the top.\n",
    "            \n",
    "        genre_popularity_per_decade[int(decade)] = dict(sorted_genres)\n",
    "    \n",
    "    return genre_popularity_per_decade\n",
    "\n",
    "def count_genres_weighted_by_popularity_and_count() -> dict:\n",
    "    \"\"\"\n",
    "    Goes through each movie in the data frame, going decade by decade, starting with the earliest decade, also gets the movies popularity.\n",
    "    Then it splits up each genre in to its own \"copy\" of the movie with with `.explode()`.\n",
    "    It then with `Counter()` it counts all the genres and how many times they showed up in that decade, multiplied with that movies popularity, then divided by the amount of genres that movie had.\n",
    "    Then it goes to the next decade.\n",
    "    \n",
    "    returns:\n",
    "        dict: a dict of each decade, and its popularity\n",
    "    \"\"\"\n",
    "    genre_popularity_per_decade = {}\n",
    "    \n",
    "    for decade in sorted(df[\"decade\"].unique()):\n",
    "        temporary_df = df[df[\"decade\"] == decade]\n",
    "        \n",
    "        genre_weights = Counter()\n",
    "        \n",
    "        for _, row in temporary_df.iterrows():\n",
    "            genres = row[\"genres\"].split(\", \")\n",
    "            popularity = row[\"popularity\"]  # Get the popularity for the movie\n",
    "            weight = 1 / len(genres)\n",
    "            \n",
    "            \n",
    "            for genre in genres:\n",
    "                genre_weights[genre] += popularity*weight\n",
    "            \n",
    "        rounded_weights = {genre: round(weight, 2) for genre, weight in genre_weights.items()} #Makes it so that each genre in the finished dict is rounded, if i rounded it in the loop above it did not work.\n",
    "        sorted_genres = dict(sorted(rounded_weights.items(), key=lambda x: x[1], reverse=True)) #Makes it so that each genre in the decade dicts are sorted with the most often at the top.\n",
    "            \n",
    "        genre_popularity_per_decade[int(decade)] = dict(sorted_genres)\n",
    "    \n",
    "    return genre_popularity_per_decade\n"
   ]
  },
  {
   "cell_type": "markdown",
   "metadata": {},
   "source": [
    "I am also going to make a simple function to get the top `N` movie genres per decade."
   ]
  },
  {
   "cell_type": "code",
   "execution_count": 78,
   "metadata": {},
   "outputs": [],
   "source": [
    "def get_top_genres(genre_popularity: dict, top_n: int = 3) -> dict:\n",
    "    \"\"\"gets the top N genres for all the decades in the dict.\n",
    "\n",
    "    Args:\n",
    "        genre_popularity (dict): Use `first_way()`, `second_way()`, `third_way()` or `fourth_way()`\n",
    "        top_n (int, optional): How many genres to look for. Defaults to 3.\n",
    "\n",
    "    Returns:\n",
    "        dict: the `genre_popularity` with the `top_n` genres as a dict\n",
    "    \"\"\"\n",
    "    \n",
    "    top_genres = {}\n",
    "    \n",
    "    for decade, genre_counts in genre_popularity.items():\n",
    "        top_n_genres = dict(sorted(genre_counts.items(), key=lambda x: x[1], reverse=True)[:top_n])\n",
    "        top_genres[decade] = top_n_genres\n",
    "\n",
    "    return top_genres"
   ]
  },
  {
   "cell_type": "markdown",
   "metadata": {},
   "source": [
    "So, time to see what the diffrent methodes and see what information they give us"
   ]
  },
  {
   "cell_type": "code",
   "execution_count": null,
   "metadata": {},
   "outputs": [],
   "source": []
  }
 ],
 "metadata": {
  "kernelspec": {
   "display_name": "Python 3",
   "language": "python",
   "name": "python3"
  },
  "language_info": {
   "codemirror_mode": {
    "name": "ipython",
    "version": 3
   },
   "file_extension": ".py",
   "mimetype": "text/x-python",
   "name": "python",
   "nbconvert_exporter": "python",
   "pygments_lexer": "ipython3",
   "version": "3.13.1"
  }
 },
 "nbformat": 4,
 "nbformat_minor": 2
}
