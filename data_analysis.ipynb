{
 "cells": [
  {
   "cell_type": "markdown",
   "metadata": {},
   "source": [
    "# Data analysis of TMDB\n",
    "Ih this task I am going to do some data analysis of movies and tv shows that are in The Movie DataBase.\n",
    "The insights I am going to find is the following:\n",
    "- What directors have made most movies and/or tv-shows.\n",
    "- What actors have been the most active.\n",
    "- What genres was the most popular per decade."
   ]
  },
  {
   "cell_type": "markdown",
   "metadata": {},
   "source": [
    "## Getting the data\n",
    "\n",
    "I was at first going to just use [TMDB's API](https://developer.themoviedb.org/reference/intro/getting-started), but I encountered a problem. When I was trying to call for the 501th page (i.e. pages 500+) it gave me a error with the text `Invalid page: Pages start at 1 and max at 500. They are expected to be an integer.`, this is quite annoying since the amount of pages as today (16 01 2025) is a whoping `48184`. And with the page limit I would only be able to access **just a bit over 1%** using this method. I did then discover the [daily ID](https://developer.themoviedb.org/docs/daily-id-exports) lists that they have. This was pretty sweet, but sadly i stumbled upon a me problem this time, my code was not good enough and I did not know how to improve it further, a aproximatly 190 hours of processing time to find directors from just the `People` list? Not acceptable, I then went for something a bit easier, I found this lovely [.csv file](https://www.kaggle.com/datasets/alanvourch/tmdb-movies-daily-updates) that user Alan Vourc'h had uploaded to Kaggle, and that file is what I am goign to use for this project."
   ]
  },
  {
   "cell_type": "markdown",
   "metadata": {},
   "source": [
    "## Start of code\n",
    "I am going to use Python as my coding language, since it is what I am the most comfortable with.\n",
    "\n",
    "The very first thing I do is choose my modules for my code:\n",
    "- I chose `pandas` as my module of choice to handle the .csv file.\n",
    "- I chose `numpy` for its usefull math library.\n",
    "- I chose `seaborn` for its posibility to visualize data in a friendly way.\n",
    "- I chose `matplotlib.pyplot` for making graphing possible."
   ]
  },
  {
   "cell_type": "code",
   "execution_count": null,
   "metadata": {},
   "outputs": [],
   "source": [
    "import pandas as pd\n",
    "import numpy as np\n",
    "import seaborn as sns\n",
    "import matplotlib.pyplot as plt\n"
   ]
  },
  {
   "cell_type": "markdown",
   "metadata": {},
   "source": [
    "Then since the file itself has many columns that I do not need, I made a list for them, and put that list in to the `usecols` parametre in panas' `read_csv`."
   ]
  },
  {
   "cell_type": "code",
   "execution_count": null,
   "metadata": {},
   "outputs": [],
   "source": [
    "\n",
    "fields = [\"title\",\"id\",\"vote_average\",\"vote_count\",\"release_date\",\"revenue\",\"budget\",\"runtime\",\"genres\",\"cast\",\"director\",\"writers\",\"producers\",\"imdb_rating\",\"imdb_votes\"] # Put the info you want here\n",
    "\n",
    "df = pd.read_csv(r\"Data\\TMDB_all_movies.csv\", skipinitialspace=True, usecols=fields)"
   ]
  },
  {
   "cell_type": "markdown",
   "metadata": {},
   "source": [
    "Then, since there are some rows that had `NAN` as their values, i changed those to a 0 where it was fitting. (I did not do this for the movies with no credits, they are filtered out.) \n",
    "I also set the index to be the movies ID."
   ]
  },
  {
   "cell_type": "code",
   "execution_count": null,
   "metadata": {},
   "outputs": [],
   "source": [
    "#Data cleaning START\n",
    "df.set_index(\"id\", inplace=True) #Sets the index to be the movies ID\n",
    "\n",
    "for i in [\"vote_average\",\"vote_count\",\"revenue\",\"budget\",\"imdb_rating\",\"imdb_votes\"]:\n",
    "    df[i].fillna(0,inplace=True)\n",
    "    #This replaces NAN values with in the list to 0\n",
    "\n",
    "df.drop_duplicates(inplace = True)\n",
    "\n",
    "df.dropna(inplace=True)\n",
    "#Data cleaning END"
   ]
  }
 ],
 "metadata": {
  "kernelspec": {
   "display_name": "Python 3",
   "language": "python",
   "name": "python3"
  },
  "language_info": {
   "codemirror_mode": {
    "name": "ipython",
    "version": 3
   },
   "file_extension": ".py",
   "mimetype": "text/x-python",
   "name": "python",
   "nbconvert_exporter": "python",
   "pygments_lexer": "ipython3",
   "version": "3.13.1"
  }
 },
 "nbformat": 4,
 "nbformat_minor": 2
}
