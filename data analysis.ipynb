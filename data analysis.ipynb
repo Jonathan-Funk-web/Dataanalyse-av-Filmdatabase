{
 "cells": [
  {
   "cell_type": "code",
   "execution_count": null,
   "metadata": {},
   "outputs": [],
   "source": [
    "import pandas as pd\n",
    "import numpy as np\n",
    "import seaborn as sns                       #visualisation\n",
    "import matplotlib.pyplot as plt             #visualisation\n",
    "\n",
    "fields = [\"title\",\"id\",\"vote_average\",\"vote_count\",\"release_date\",\"revenue\",\"budget\",\"runtime\",\"genres\",\"cast\",\"director\",\"writers\",\"producers\",\"imdb_rating\",\"imdb_votes\"] # Put the info you want here\n",
    "\n",
    "df = pd.read_csv(r\"Data\\TMDB_all_movies.csv\", skipinitialspace=True, usecols=fields)\n",
    "\n",
    "\n",
    "#Data cleaning START\n",
    "df.set_index(\"id\", inplace=True) #Sets the index to be the movies ID\n",
    "\n",
    "for i in [\"vote_average\",\"vote_count\",\"revenue\",\"budget\",\"imdb_rating\",\"imdb_votes\"]:\n",
    "    df[i].fillna(0,inplace=True)\n",
    "    #This replaces NAN values with in the list to 0\n",
    "\n",
    "df[\"release_date\"] = pd.to_datetime(df[\"release_date\"])\n",
    "df.drop_duplicates(inplace = True)\n",
    "\n",
    "df.dropna(inplace=True)\n",
    "#Data cleaning END\n",
    "\n",
    "sns.boxplot(x=df[\"budget\"])\n",
    "\n",
    "\n",
    "#These colums have numeric datatypes: vote_average, vote_count, revenue, runtime, budget, genres, imdb_rating, imdb_votes\n",
    "\n",
    "\"\"\"datatype list:\n",
    "    title                   object\n",
    "    vote_average           float64\n",
    "    vote_count             float64\n",
    "    release_date    datetime64[ns]\n",
    "    revenue                float64\n",
    "    runtime                float64\n",
    "    budget                 float64\n",
    "    genres                  object\n",
    "    cast                    object\n",
    "    director                object\n",
    "    writers                 object\n",
    "    producers               object\n",
    "    imdb_rating            float64\n",
    "    imdb_votes             float64\n",
    "\"\"\"\n",
    "\n",
    "# print(df.describe().apply(lambda x: x.apply('{0:.5f}'.format))) # Gives some data summary and supresses the \"forced\" sci notation with lambda magic"
   ]
  }
 ],
 "metadata": {
  "kernelspec": {
   "display_name": "Python 3",
   "language": "python",
   "name": "python3"
  },
  "language_info": {
   "name": "python",
   "version": "3.13.1"
  }
 },
 "nbformat": 4,
 "nbformat_minor": 2
}
